{
 "cells": [
  {
   "cell_type": "code",
   "execution_count": null,
   "metadata": {},
   "outputs": [],
   "source": [
    "# ===================================\n",
    "# \n",
    "# SETUP\n",
    "#\n",
    "# ==================================="
   ]
  },
  {
   "cell_type": "code",
   "execution_count": 1,
   "metadata": {},
   "outputs": [],
   "source": [
    "# -----------------------------------\n",
    "# PICKLES\n",
    "\n",
    "import dill\n",
    "\n",
    "# ---- SESSIONS ----\n",
    "#dill.dump_session('./working.db')\n",
    "#dill.load_session('./working.db')\n",
    "\n",
    "# ---- OBJECTS ----\n",
    "#dill.dump(df_results, open(\"df_results.pkl\", \"wb\"))"
   ]
  },
  {
   "cell_type": "code",
   "execution_count": 2,
   "metadata": {},
   "outputs": [],
   "source": [
    "# -----------------------------------\n",
    "# LIBRARY IMPORTS\n",
    "import sqlite3\n",
    "import pandas as pd\n",
    "pd.set_option('display.max_columns', None)\n",
    "import matplotlib.pyplot as plt\n",
    "%matplotlib inline\n",
    "import seaborn as sns\n",
    "import statsmodels.api as sm\n",
    "import statsmodels.formula.api as smf"
   ]
  },
  {
   "cell_type": "code",
   "execution_count": null,
   "metadata": {},
   "outputs": [],
   "source": [
    "# -----------------------------------\n",
    "# RAW DATA IMPORT\n",
    "\n",
    "'''# ---- CONVERT RAW SQLITE TABLES TO CSV FILES ----\n",
    "db = sqlite3.connect('data/database.sqlite')\n",
    "cursor = db.cursor()\n",
    "cursor.execute('SELECT name FROM sqlite_master WHERE type=\"table\";')\n",
    "tables = cursor.fetchall()\n",
    "for table_name in tables:\n",
    "    table_name = table_name[0]\n",
    "    table = pd.read_sql_query('SELECT * FROM %s' % table_name, db)\n",
    "    table.to_csv(table_name + '.csv', index_label='index')\n",
    "cursor.close()\n",
    "db.close()\n",
    "del table\n",
    "\n",
    "table_names = pd.DataFrame(tables)\n",
    "table_names.to_csv('data/table_names.csv')'''"
   ]
  },
  {
   "cell_type": "code",
   "execution_count": 3,
   "metadata": {},
   "outputs": [
    {
     "name": "stderr",
     "output_type": "stream",
     "text": [
      "C:\\Users\\steve\\Anaconda3\\lib\\site-packages\\IPython\\core\\interactiveshell.py:2785: DtypeWarning: Columns (16) have mixed types. Specify dtype option on import or set low_memory=False.\n",
      "  interactivity=interactivity, compiler=compiler, result=result)\n",
      "C:\\Users\\steve\\Anaconda3\\lib\\site-packages\\IPython\\core\\interactiveshell.py:2785: DtypeWarning: Columns (0,22) have mixed types. Specify dtype option on import or set low_memory=False.\n",
      "  interactivity=interactivity, compiler=compiler, result=result)\n"
     ]
    }
   ],
   "source": [
    "# ---- IMPORT DATAFRAMES ----\n",
    "table_names = pd.read_csv('data/table_names.csv', index_col=0)\n",
    "names = [name[0] for name in table_names.values]\n",
    "\n",
    "# Create dictionary\n",
    "df = {}\n",
    "for name in names:\n",
    "    df[name] = pd.read_csv('data/'+name+'.csv', index_col=0)\n",
    "    \n",
    "# Unpack dictionary\n",
    "raw_df_user = df['user']\n",
    "raw_df_method = df['method']\n",
    "raw_df_grade = df['grade']\n",
    "raw_df_ascent = df['ascent']\n",
    "\n",
    "# Delete unnecessary dataframes\n",
    "del df\n",
    "del raw_df_ascent.index.name\n",
    "del raw_df_grade.index.name\n",
    "del raw_df_method.index.name\n",
    "del raw_df_user.index.name"
   ]
  },
  {
   "cell_type": "code",
   "execution_count": 4,
   "metadata": {},
   "outputs": [
    {
     "data": {
      "text/html": [
       "<div>\n",
       "<style scoped>\n",
       "    .dataframe tbody tr th:only-of-type {\n",
       "        vertical-align: middle;\n",
       "    }\n",
       "\n",
       "    .dataframe tbody tr th {\n",
       "        vertical-align: top;\n",
       "    }\n",
       "\n",
       "    .dataframe thead th {\n",
       "        text-align: right;\n",
       "    }\n",
       "</style>\n",
       "<table border=\"1\" class=\"dataframe\">\n",
       "  <thead>\n",
       "    <tr style=\"text-align: right;\">\n",
       "      <th></th>\n",
       "      <th>id</th>\n",
       "      <th>first_name</th>\n",
       "      <th>last_name</th>\n",
       "      <th>city</th>\n",
       "      <th>country</th>\n",
       "      <th>sex</th>\n",
       "      <th>height</th>\n",
       "      <th>weight</th>\n",
       "      <th>started</th>\n",
       "      <th>competitions</th>\n",
       "      <th>occupation</th>\n",
       "      <th>sponsor1</th>\n",
       "      <th>sponsor2</th>\n",
       "      <th>sponsor3</th>\n",
       "      <th>best_area</th>\n",
       "      <th>worst_area</th>\n",
       "      <th>guide_area</th>\n",
       "      <th>interests</th>\n",
       "      <th>birth</th>\n",
       "      <th>presentation</th>\n",
       "      <th>deactivated</th>\n",
       "      <th>anonymous</th>\n",
       "    </tr>\n",
       "  </thead>\n",
       "  <tbody>\n",
       "    <tr>\n",
       "      <th>0</th>\n",
       "      <td>1</td>\n",
       "      <td>first</td>\n",
       "      <td>last</td>\n",
       "      <td>Göteborg</td>\n",
       "      <td>SWE</td>\n",
       "      <td>0</td>\n",
       "      <td>177</td>\n",
       "      <td>73</td>\n",
       "      <td>1996</td>\n",
       "      <td>NaN</td>\n",
       "      <td>NaN</td>\n",
       "      <td>NaN</td>\n",
       "      <td>NaN</td>\n",
       "      <td>NaN</td>\n",
       "      <td>Railay beach, Krabi, Thailand</td>\n",
       "      <td>NaN</td>\n",
       "      <td>NaN</td>\n",
       "      <td>NaN</td>\n",
       "      <td>1976-03-10</td>\n",
       "      <td>NaN</td>\n",
       "      <td>0</td>\n",
       "      <td>0</td>\n",
       "    </tr>\n",
       "    <tr>\n",
       "      <th>1</th>\n",
       "      <td>2</td>\n",
       "      <td>first</td>\n",
       "      <td>last</td>\n",
       "      <td>stockholm</td>\n",
       "      <td>SWE</td>\n",
       "      <td>0</td>\n",
       "      <td>0</td>\n",
       "      <td>0</td>\n",
       "      <td>2000</td>\n",
       "      <td>NaN</td>\n",
       "      <td>NaN</td>\n",
       "      <td>NaN</td>\n",
       "      <td>NaN</td>\n",
       "      <td>NaN</td>\n",
       "      <td>NaN</td>\n",
       "      <td>NaN</td>\n",
       "      <td>NaN</td>\n",
       "      <td>NaN</td>\n",
       "      <td>NaN</td>\n",
       "      <td>NaN</td>\n",
       "      <td>0</td>\n",
       "      <td>0</td>\n",
       "    </tr>\n",
       "    <tr>\n",
       "      <th>2</th>\n",
       "      <td>3</td>\n",
       "      <td>first</td>\n",
       "      <td>last</td>\n",
       "      <td>Umeå</td>\n",
       "      <td>SWE</td>\n",
       "      <td>0</td>\n",
       "      <td>180</td>\n",
       "      <td>78</td>\n",
       "      <td>1995</td>\n",
       "      <td>NaN</td>\n",
       "      <td>NaN</td>\n",
       "      <td>NaN</td>\n",
       "      <td>NaN</td>\n",
       "      <td>NaN</td>\n",
       "      <td>Hell</td>\n",
       "      <td>Umeå</td>\n",
       "      <td>NaN</td>\n",
       "      <td>NaN</td>\n",
       "      <td>1973-09-09</td>\n",
       "      <td>NaN</td>\n",
       "      <td>0</td>\n",
       "      <td>0</td>\n",
       "    </tr>\n",
       "    <tr>\n",
       "      <th>3</th>\n",
       "      <td>4</td>\n",
       "      <td>first</td>\n",
       "      <td>last</td>\n",
       "      <td>Goteborg</td>\n",
       "      <td>SWE</td>\n",
       "      <td>1</td>\n",
       "      <td>165</td>\n",
       "      <td>58</td>\n",
       "      <td>2001</td>\n",
       "      <td>NaN</td>\n",
       "      <td>NaN</td>\n",
       "      <td>NaN</td>\n",
       "      <td>NaN</td>\n",
       "      <td>NaN</td>\n",
       "      <td>NaN</td>\n",
       "      <td>NaN</td>\n",
       "      <td>NaN</td>\n",
       "      <td>NaN</td>\n",
       "      <td>1984-07-26</td>\n",
       "      <td>NaN</td>\n",
       "      <td>0</td>\n",
       "      <td>0</td>\n",
       "    </tr>\n",
       "    <tr>\n",
       "      <th>4</th>\n",
       "      <td>5</td>\n",
       "      <td>first</td>\n",
       "      <td>last</td>\n",
       "      <td>North Attleboro</td>\n",
       "      <td>USA</td>\n",
       "      <td>0</td>\n",
       "      <td>0</td>\n",
       "      <td>0</td>\n",
       "      <td>1991</td>\n",
       "      <td>NaN</td>\n",
       "      <td>NaN</td>\n",
       "      <td>NaN</td>\n",
       "      <td>NaN</td>\n",
       "      <td>NaN</td>\n",
       "      <td>NaN</td>\n",
       "      <td>NaN</td>\n",
       "      <td>NaN</td>\n",
       "      <td>NaN</td>\n",
       "      <td>1969-05-07</td>\n",
       "      <td>NaN</td>\n",
       "      <td>0</td>\n",
       "      <td>0</td>\n",
       "    </tr>\n",
       "  </tbody>\n",
       "</table>\n",
       "</div>"
      ],
      "text/plain": [
       "   id first_name last_name             city country  sex  height  weight  \\\n",
       "0   1      first      last         Göteborg     SWE    0     177      73   \n",
       "1   2      first      last        stockholm     SWE    0       0       0   \n",
       "2   3      first      last             Umeå     SWE    0     180      78   \n",
       "3   4      first      last         Goteborg     SWE    1     165      58   \n",
       "4   5      first      last  North Attleboro     USA    0       0       0   \n",
       "\n",
       "   started competitions occupation sponsor1 sponsor2 sponsor3  \\\n",
       "0     1996          NaN        NaN      NaN      NaN      NaN   \n",
       "1     2000          NaN        NaN      NaN      NaN      NaN   \n",
       "2     1995          NaN        NaN      NaN      NaN      NaN   \n",
       "3     2001          NaN        NaN      NaN      NaN      NaN   \n",
       "4     1991          NaN        NaN      NaN      NaN      NaN   \n",
       "\n",
       "                       best_area worst_area guide_area interests       birth  \\\n",
       "0  Railay beach, Krabi, Thailand        NaN        NaN       NaN  1976-03-10   \n",
       "1                            NaN        NaN        NaN       NaN         NaN   \n",
       "2                           Hell       Umeå        NaN       NaN  1973-09-09   \n",
       "3                            NaN        NaN        NaN       NaN  1984-07-26   \n",
       "4                            NaN        NaN        NaN       NaN  1969-05-07   \n",
       "\n",
       "  presentation  deactivated  anonymous  \n",
       "0          NaN            0          0  \n",
       "1          NaN            0          0  \n",
       "2          NaN            0          0  \n",
       "3          NaN            0          0  \n",
       "4          NaN            0          0  "
      ]
     },
     "execution_count": 4,
     "metadata": {},
     "output_type": "execute_result"
    }
   ],
   "source": [
    "# -----------------------------------\n",
    "# RAW DATA INSPECTION\n",
    "raw_df_user.head()"
   ]
  },
  {
   "cell_type": "code",
   "execution_count": 5,
   "metadata": {},
   "outputs": [
    {
     "name": "stdout",
     "output_type": "stream",
     "text": [
      "<class 'pandas.core.frame.DataFrame'>\n",
      "Int64Index: 62593 entries, 0 to 62592\n",
      "Data columns (total 22 columns):\n",
      "id              62593 non-null int64\n",
      "first_name      62593 non-null object\n",
      "last_name       62593 non-null object\n",
      "city            61163 non-null object\n",
      "country         62495 non-null object\n",
      "sex             62593 non-null int64\n",
      "height          62593 non-null int64\n",
      "weight          62593 non-null int64\n",
      "started         62593 non-null int64\n",
      "competitions    4888 non-null object\n",
      "occupation      11778 non-null object\n",
      "sponsor1        5355 non-null object\n",
      "sponsor2        2656 non-null object\n",
      "sponsor3        1497 non-null object\n",
      "best_area       15413 non-null object\n",
      "worst_area      220 non-null object\n",
      "guide_area      7755 non-null object\n",
      "interests       8577 non-null object\n",
      "birth           27856 non-null object\n",
      "presentation    6113 non-null object\n",
      "deactivated     62593 non-null int64\n",
      "anonymous       62593 non-null int64\n",
      "dtypes: int64(7), object(15)\n",
      "memory usage: 11.0+ MB\n"
     ]
    }
   ],
   "source": [
    "raw_df_user.info()"
   ]
  },
  {
   "cell_type": "code",
   "execution_count": 6,
   "metadata": {},
   "outputs": [
    {
     "data": {
      "text/html": [
       "<div>\n",
       "<style scoped>\n",
       "    .dataframe tbody tr th:only-of-type {\n",
       "        vertical-align: middle;\n",
       "    }\n",
       "\n",
       "    .dataframe tbody tr th {\n",
       "        vertical-align: top;\n",
       "    }\n",
       "\n",
       "    .dataframe thead th {\n",
       "        text-align: right;\n",
       "    }\n",
       "</style>\n",
       "<table border=\"1\" class=\"dataframe\">\n",
       "  <thead>\n",
       "    <tr style=\"text-align: right;\">\n",
       "      <th></th>\n",
       "      <th>id</th>\n",
       "      <th>user_id</th>\n",
       "      <th>grade_id</th>\n",
       "      <th>notes</th>\n",
       "      <th>raw_notes</th>\n",
       "      <th>method_id</th>\n",
       "      <th>climb_type</th>\n",
       "      <th>total_score</th>\n",
       "      <th>date</th>\n",
       "      <th>year</th>\n",
       "      <th>last_year</th>\n",
       "      <th>rec_date</th>\n",
       "      <th>project_ascent_date</th>\n",
       "      <th>name</th>\n",
       "      <th>crag_id</th>\n",
       "      <th>crag</th>\n",
       "      <th>sector_id</th>\n",
       "      <th>sector</th>\n",
       "      <th>country</th>\n",
       "      <th>comment</th>\n",
       "      <th>rating</th>\n",
       "      <th>description</th>\n",
       "      <th>yellow_id</th>\n",
       "      <th>climb_try</th>\n",
       "      <th>repeat</th>\n",
       "      <th>exclude_from_ranking</th>\n",
       "      <th>user_recommended</th>\n",
       "      <th>chipped</th>\n",
       "    </tr>\n",
       "  </thead>\n",
       "  <tbody>\n",
       "    <tr>\n",
       "      <th>0</th>\n",
       "      <td>2</td>\n",
       "      <td>1.0</td>\n",
       "      <td>36</td>\n",
       "      <td>NaN</td>\n",
       "      <td>0</td>\n",
       "      <td>3</td>\n",
       "      <td>0</td>\n",
       "      <td>545</td>\n",
       "      <td>918342000.0</td>\n",
       "      <td>1999.0</td>\n",
       "      <td>0.0</td>\n",
       "      <td>1.107126e+09</td>\n",
       "      <td>0.0</td>\n",
       "      <td>The King And I</td>\n",
       "      <td>16596.0</td>\n",
       "      <td>Railay</td>\n",
       "      <td>61.0</td>\n",
       "      <td>Dum's kitchen</td>\n",
       "      <td>THA</td>\n",
       "      <td>Thailand\\r\\n</td>\n",
       "      <td>0.0</td>\n",
       "      <td>NaN</td>\n",
       "      <td>255.0</td>\n",
       "      <td>0.0</td>\n",
       "      <td>0.0</td>\n",
       "      <td>0.0</td>\n",
       "      <td>0.0</td>\n",
       "      <td>0.0</td>\n",
       "    </tr>\n",
       "    <tr>\n",
       "      <th>1</th>\n",
       "      <td>3</td>\n",
       "      <td>1.0</td>\n",
       "      <td>36</td>\n",
       "      <td>NaN</td>\n",
       "      <td>0</td>\n",
       "      <td>3</td>\n",
       "      <td>0</td>\n",
       "      <td>545</td>\n",
       "      <td>925509600.0</td>\n",
       "      <td>1999.0</td>\n",
       "      <td>0.0</td>\n",
       "      <td>1.107126e+09</td>\n",
       "      <td>0.0</td>\n",
       "      <td>vet ej</td>\n",
       "      <td>0.0</td>\n",
       "      <td>Nya berg - segl.</td>\n",
       "      <td>0.0</td>\n",
       "      <td>NaN</td>\n",
       "      <td>NaN</td>\n",
       "      <td>\\r\\n</td>\n",
       "      <td>0.0</td>\n",
       "      <td>NaN</td>\n",
       "      <td>0.0</td>\n",
       "      <td>0.0</td>\n",
       "      <td>0.0</td>\n",
       "      <td>0.0</td>\n",
       "      <td>0.0</td>\n",
       "      <td>0.0</td>\n",
       "    </tr>\n",
       "    <tr>\n",
       "      <th>2</th>\n",
       "      <td>4</td>\n",
       "      <td>1.0</td>\n",
       "      <td>36</td>\n",
       "      <td>NaN</td>\n",
       "      <td>0</td>\n",
       "      <td>3</td>\n",
       "      <td>0</td>\n",
       "      <td>545</td>\n",
       "      <td>933026400.0</td>\n",
       "      <td>1999.0</td>\n",
       "      <td>0.0</td>\n",
       "      <td>1.107126e+09</td>\n",
       "      <td>0.0</td>\n",
       "      <td>Mr Big</td>\n",
       "      <td>209.0</td>\n",
       "      <td>Sjöända</td>\n",
       "      <td>371.0</td>\n",
       "      <td>Huvudväggen</td>\n",
       "      <td>SWE</td>\n",
       "      <td>\\r\\n</td>\n",
       "      <td>0.0</td>\n",
       "      <td>NaN</td>\n",
       "      <td>255.0</td>\n",
       "      <td>0.0</td>\n",
       "      <td>0.0</td>\n",
       "      <td>0.0</td>\n",
       "      <td>0.0</td>\n",
       "      <td>0.0</td>\n",
       "    </tr>\n",
       "    <tr>\n",
       "      <th>3</th>\n",
       "      <td>5</td>\n",
       "      <td>1.0</td>\n",
       "      <td>36</td>\n",
       "      <td>NaN</td>\n",
       "      <td>0</td>\n",
       "      <td>3</td>\n",
       "      <td>0</td>\n",
       "      <td>545</td>\n",
       "      <td>933026400.0</td>\n",
       "      <td>1999.0</td>\n",
       "      <td>0.0</td>\n",
       "      <td>1.107126e+09</td>\n",
       "      <td>0.0</td>\n",
       "      <td>Tak ska du ha</td>\n",
       "      <td>209.0</td>\n",
       "      <td>Sjöända</td>\n",
       "      <td>371.0</td>\n",
       "      <td>Huvudväggen</td>\n",
       "      <td>SWE</td>\n",
       "      <td>\\r\\n</td>\n",
       "      <td>0.0</td>\n",
       "      <td>NaN</td>\n",
       "      <td>255.0</td>\n",
       "      <td>0.0</td>\n",
       "      <td>0.0</td>\n",
       "      <td>0.0</td>\n",
       "      <td>0.0</td>\n",
       "      <td>0.0</td>\n",
       "    </tr>\n",
       "    <tr>\n",
       "      <th>4</th>\n",
       "      <td>6</td>\n",
       "      <td>1.0</td>\n",
       "      <td>36</td>\n",
       "      <td>NaN</td>\n",
       "      <td>0</td>\n",
       "      <td>3</td>\n",
       "      <td>0</td>\n",
       "      <td>545</td>\n",
       "      <td>933458400.0</td>\n",
       "      <td>1999.0</td>\n",
       "      <td>0.0</td>\n",
       "      <td>1.107126e+09</td>\n",
       "      <td>0.0</td>\n",
       "      <td>Korpen flyger</td>\n",
       "      <td>0.0</td>\n",
       "      <td>Rankulla, Vetlanda</td>\n",
       "      <td>0.0</td>\n",
       "      <td>NaN</td>\n",
       "      <td>NaN</td>\n",
       "      <td>\\r\\n</td>\n",
       "      <td>0.0</td>\n",
       "      <td>NaN</td>\n",
       "      <td>0.0</td>\n",
       "      <td>0.0</td>\n",
       "      <td>0.0</td>\n",
       "      <td>0.0</td>\n",
       "      <td>0.0</td>\n",
       "      <td>0.0</td>\n",
       "    </tr>\n",
       "  </tbody>\n",
       "</table>\n",
       "</div>"
      ],
      "text/plain": [
       "   id  user_id  grade_id notes  raw_notes  method_id  climb_type  total_score  \\\n",
       "0   2      1.0        36   NaN          0          3           0          545   \n",
       "1   3      1.0        36   NaN          0          3           0          545   \n",
       "2   4      1.0        36   NaN          0          3           0          545   \n",
       "3   5      1.0        36   NaN          0          3           0          545   \n",
       "4   6      1.0        36   NaN          0          3           0          545   \n",
       "\n",
       "          date    year  last_year      rec_date  project_ascent_date  \\\n",
       "0  918342000.0  1999.0        0.0  1.107126e+09                  0.0   \n",
       "1  925509600.0  1999.0        0.0  1.107126e+09                  0.0   \n",
       "2  933026400.0  1999.0        0.0  1.107126e+09                  0.0   \n",
       "3  933026400.0  1999.0        0.0  1.107126e+09                  0.0   \n",
       "4  933458400.0  1999.0        0.0  1.107126e+09                  0.0   \n",
       "\n",
       "             name  crag_id                crag  sector_id         sector  \\\n",
       "0  The King And I  16596.0              Railay       61.0  Dum's kitchen   \n",
       "1          vet ej      0.0    Nya berg - segl.        0.0            NaN   \n",
       "2          Mr Big    209.0             Sjöända      371.0    Huvudväggen   \n",
       "3   Tak ska du ha    209.0             Sjöända      371.0    Huvudväggen   \n",
       "4   Korpen flyger      0.0  Rankulla, Vetlanda        0.0            NaN   \n",
       "\n",
       "  country       comment  rating description  yellow_id  climb_try  repeat  \\\n",
       "0     THA  Thailand\\r\\n     0.0         NaN      255.0        0.0     0.0   \n",
       "1     NaN          \\r\\n     0.0         NaN        0.0        0.0     0.0   \n",
       "2     SWE          \\r\\n     0.0         NaN      255.0        0.0     0.0   \n",
       "3     SWE          \\r\\n     0.0         NaN      255.0        0.0     0.0   \n",
       "4     NaN          \\r\\n     0.0         NaN        0.0        0.0     0.0   \n",
       "\n",
       "   exclude_from_ranking  user_recommended  chipped  \n",
       "0                   0.0               0.0      0.0  \n",
       "1                   0.0               0.0      0.0  \n",
       "2                   0.0               0.0      0.0  \n",
       "3                   0.0               0.0      0.0  \n",
       "4                   0.0               0.0      0.0  "
      ]
     },
     "execution_count": 6,
     "metadata": {},
     "output_type": "execute_result"
    }
   ],
   "source": [
    "raw_df_ascent.head()"
   ]
  },
  {
   "cell_type": "code",
   "execution_count": 7,
   "metadata": {},
   "outputs": [
    {
     "name": "stdout",
     "output_type": "stream",
     "text": [
      "<class 'pandas.core.frame.DataFrame'>\n",
      "Index: 4111878 entries, 0 to 4111876\n",
      "Data columns (total 28 columns):\n",
      "id                      int64\n",
      "user_id                 float64\n",
      "grade_id                int64\n",
      "notes                   object\n",
      "raw_notes               int64\n",
      "method_id               int64\n",
      "climb_type              int64\n",
      "total_score             int64\n",
      "date                    float64\n",
      "year                    float64\n",
      "last_year               float64\n",
      "rec_date                float64\n",
      "project_ascent_date     float64\n",
      "name                    object\n",
      "crag_id                 float64\n",
      "crag                    object\n",
      "sector_id               float64\n",
      "sector                  object\n",
      "country                 object\n",
      "comment                 object\n",
      "rating                  float64\n",
      "description             object\n",
      "yellow_id               float64\n",
      "climb_try               float64\n",
      "repeat                  float64\n",
      "exclude_from_ranking    float64\n",
      "user_recommended        float64\n",
      "chipped                 float64\n",
      "dtypes: float64(15), int64(6), object(7)\n",
      "memory usage: 909.8+ MB\n"
     ]
    }
   ],
   "source": [
    "raw_df_ascent.info()"
   ]
  },
  {
   "cell_type": "code",
   "execution_count": 8,
   "metadata": {},
   "outputs": [
    {
     "data": {
      "text/html": [
       "<div>\n",
       "<style scoped>\n",
       "    .dataframe tbody tr th:only-of-type {\n",
       "        vertical-align: middle;\n",
       "    }\n",
       "\n",
       "    .dataframe tbody tr th {\n",
       "        vertical-align: top;\n",
       "    }\n",
       "\n",
       "    .dataframe thead th {\n",
       "        text-align: right;\n",
       "    }\n",
       "</style>\n",
       "<table border=\"1\" class=\"dataframe\">\n",
       "  <thead>\n",
       "    <tr style=\"text-align: right;\">\n",
       "      <th></th>\n",
       "      <th>id</th>\n",
       "      <th>score</th>\n",
       "      <th>shorthand</th>\n",
       "      <th>name</th>\n",
       "    </tr>\n",
       "  </thead>\n",
       "  <tbody>\n",
       "    <tr>\n",
       "      <th>0</th>\n",
       "      <td>1</td>\n",
       "      <td>0</td>\n",
       "      <td>redpoint</td>\n",
       "      <td>Redpoint</td>\n",
       "    </tr>\n",
       "    <tr>\n",
       "      <th>1</th>\n",
       "      <td>2</td>\n",
       "      <td>53</td>\n",
       "      <td>flash</td>\n",
       "      <td>Flash</td>\n",
       "    </tr>\n",
       "    <tr>\n",
       "      <th>2</th>\n",
       "      <td>3</td>\n",
       "      <td>145</td>\n",
       "      <td>onsight</td>\n",
       "      <td>Onsight</td>\n",
       "    </tr>\n",
       "    <tr>\n",
       "      <th>3</th>\n",
       "      <td>4</td>\n",
       "      <td>-52</td>\n",
       "      <td>toprope</td>\n",
       "      <td>Toprope</td>\n",
       "    </tr>\n",
       "    <tr>\n",
       "      <th>4</th>\n",
       "      <td>5</td>\n",
       "      <td>95</td>\n",
       "      <td>onsight</td>\n",
       "      <td>Onsight</td>\n",
       "    </tr>\n",
       "  </tbody>\n",
       "</table>\n",
       "</div>"
      ],
      "text/plain": [
       "   id  score shorthand      name\n",
       "0   1      0  redpoint  Redpoint\n",
       "1   2     53     flash     Flash\n",
       "2   3    145   onsight   Onsight\n",
       "3   4    -52   toprope   Toprope\n",
       "4   5     95   onsight   Onsight"
      ]
     },
     "execution_count": 8,
     "metadata": {},
     "output_type": "execute_result"
    }
   ],
   "source": [
    "raw_df_method.head()"
   ]
  },
  {
   "cell_type": "code",
   "execution_count": 9,
   "metadata": {},
   "outputs": [
    {
     "name": "stdout",
     "output_type": "stream",
     "text": [
      "<class 'pandas.core.frame.DataFrame'>\n",
      "Int64Index: 5 entries, 0 to 4\n",
      "Data columns (total 4 columns):\n",
      "id           5 non-null int64\n",
      "score        5 non-null int64\n",
      "shorthand    5 non-null object\n",
      "name         5 non-null object\n",
      "dtypes: int64(2), object(2)\n",
      "memory usage: 200.0+ bytes\n"
     ]
    }
   ],
   "source": [
    "raw_df_method.info()"
   ]
  },
  {
   "cell_type": "code",
   "execution_count": 10,
   "metadata": {},
   "outputs": [
    {
     "data": {
      "text/html": [
       "<div>\n",
       "<style scoped>\n",
       "    .dataframe tbody tr th:only-of-type {\n",
       "        vertical-align: middle;\n",
       "    }\n",
       "\n",
       "    .dataframe tbody tr th {\n",
       "        vertical-align: top;\n",
       "    }\n",
       "\n",
       "    .dataframe thead th {\n",
       "        text-align: right;\n",
       "    }\n",
       "</style>\n",
       "<table border=\"1\" class=\"dataframe\">\n",
       "  <thead>\n",
       "    <tr style=\"text-align: right;\">\n",
       "      <th></th>\n",
       "      <th>id</th>\n",
       "      <th>score</th>\n",
       "      <th>fra_routes</th>\n",
       "      <th>fra_routes_input</th>\n",
       "      <th>fra_routes_selector</th>\n",
       "      <th>fra_boulders</th>\n",
       "      <th>fra_boulders_input</th>\n",
       "      <th>fra_boulders_selector</th>\n",
       "      <th>usa_routes</th>\n",
       "      <th>usa_routes_input</th>\n",
       "      <th>usa_routes_selector</th>\n",
       "      <th>usa_boulders</th>\n",
       "      <th>usa_boulders_input</th>\n",
       "      <th>usa_boulders_selector</th>\n",
       "    </tr>\n",
       "  </thead>\n",
       "  <tbody>\n",
       "    <tr>\n",
       "      <th>0</th>\n",
       "      <td>1</td>\n",
       "      <td>0</td>\n",
       "      <td>-</td>\n",
       "      <td>1</td>\n",
       "      <td>1</td>\n",
       "      <td>-</td>\n",
       "      <td>1</td>\n",
       "      <td>1</td>\n",
       "      <td>3/4</td>\n",
       "      <td>1</td>\n",
       "      <td>1</td>\n",
       "      <td>VB</td>\n",
       "      <td>1</td>\n",
       "      <td>1</td>\n",
       "    </tr>\n",
       "    <tr>\n",
       "      <th>1</th>\n",
       "      <td>2</td>\n",
       "      <td>0</td>\n",
       "      <td>1</td>\n",
       "      <td>0</td>\n",
       "      <td>0</td>\n",
       "      <td>1</td>\n",
       "      <td>0</td>\n",
       "      <td>0</td>\n",
       "      <td>NaN</td>\n",
       "      <td>0</td>\n",
       "      <td>0</td>\n",
       "      <td>NaN</td>\n",
       "      <td>0</td>\n",
       "      <td>0</td>\n",
       "    </tr>\n",
       "    <tr>\n",
       "      <th>2</th>\n",
       "      <td>3</td>\n",
       "      <td>0</td>\n",
       "      <td>1a</td>\n",
       "      <td>0</td>\n",
       "      <td>0</td>\n",
       "      <td>1A</td>\n",
       "      <td>0</td>\n",
       "      <td>0</td>\n",
       "      <td>NaN</td>\n",
       "      <td>0</td>\n",
       "      <td>0</td>\n",
       "      <td>NaN</td>\n",
       "      <td>0</td>\n",
       "      <td>0</td>\n",
       "    </tr>\n",
       "    <tr>\n",
       "      <th>3</th>\n",
       "      <td>4</td>\n",
       "      <td>0</td>\n",
       "      <td>1b</td>\n",
       "      <td>0</td>\n",
       "      <td>0</td>\n",
       "      <td>1B</td>\n",
       "      <td>0</td>\n",
       "      <td>0</td>\n",
       "      <td>NaN</td>\n",
       "      <td>0</td>\n",
       "      <td>0</td>\n",
       "      <td>NaN</td>\n",
       "      <td>0</td>\n",
       "      <td>0</td>\n",
       "    </tr>\n",
       "    <tr>\n",
       "      <th>4</th>\n",
       "      <td>5</td>\n",
       "      <td>0</td>\n",
       "      <td>1c</td>\n",
       "      <td>0</td>\n",
       "      <td>0</td>\n",
       "      <td>1C</td>\n",
       "      <td>0</td>\n",
       "      <td>0</td>\n",
       "      <td>NaN</td>\n",
       "      <td>0</td>\n",
       "      <td>0</td>\n",
       "      <td>NaN</td>\n",
       "      <td>0</td>\n",
       "      <td>0</td>\n",
       "    </tr>\n",
       "  </tbody>\n",
       "</table>\n",
       "</div>"
      ],
      "text/plain": [
       "   id  score fra_routes  fra_routes_input  fra_routes_selector fra_boulders  \\\n",
       "0   1      0          -                 1                    1            -   \n",
       "1   2      0          1                 0                    0            1   \n",
       "2   3      0         1a                 0                    0           1A   \n",
       "3   4      0         1b                 0                    0           1B   \n",
       "4   5      0         1c                 0                    0           1C   \n",
       "\n",
       "   fra_boulders_input  fra_boulders_selector usa_routes  usa_routes_input  \\\n",
       "0                   1                      1        3/4                 1   \n",
       "1                   0                      0        NaN                 0   \n",
       "2                   0                      0        NaN                 0   \n",
       "3                   0                      0        NaN                 0   \n",
       "4                   0                      0        NaN                 0   \n",
       "\n",
       "   usa_routes_selector usa_boulders  usa_boulders_input  usa_boulders_selector  \n",
       "0                    1           VB                   1                      1  \n",
       "1                    0          NaN                   0                      0  \n",
       "2                    0          NaN                   0                      0  \n",
       "3                    0          NaN                   0                      0  \n",
       "4                    0          NaN                   0                      0  "
      ]
     },
     "execution_count": 10,
     "metadata": {},
     "output_type": "execute_result"
    }
   ],
   "source": [
    "raw_df_grade.head()"
   ]
  },
  {
   "cell_type": "code",
   "execution_count": 11,
   "metadata": {},
   "outputs": [
    {
     "name": "stdout",
     "output_type": "stream",
     "text": [
      "<class 'pandas.core.frame.DataFrame'>\n",
      "Int64Index: 83 entries, 0 to 82\n",
      "Data columns (total 14 columns):\n",
      "id                       83 non-null int64\n",
      "score                    83 non-null int64\n",
      "fra_routes               83 non-null object\n",
      "fra_routes_input         83 non-null int64\n",
      "fra_routes_selector      83 non-null int64\n",
      "fra_boulders             83 non-null object\n",
      "fra_boulders_input       83 non-null int64\n",
      "fra_boulders_selector    83 non-null int64\n",
      "usa_routes               47 non-null object\n",
      "usa_routes_input         83 non-null int64\n",
      "usa_routes_selector      83 non-null int64\n",
      "usa_boulders             45 non-null object\n",
      "usa_boulders_input       83 non-null int64\n",
      "usa_boulders_selector    83 non-null int64\n",
      "dtypes: int64(10), object(4)\n",
      "memory usage: 9.7+ KB\n"
     ]
    }
   ],
   "source": [
    "raw_df_grade.info()"
   ]
  },
  {
   "cell_type": "markdown",
   "metadata": {},
   "source": [
    "As seen above, there is a fair amount of data to wrangle: 62593 user ID entries with 22 columns each, 4111878 ascent entries with 28 columns each, five method entires (although one of them seems to be a duplicate) with four columns each, and 83 grade entires with 14 columns each.\n",
    "\n",
    "There is a fair amount of NULL data to consider."
   ]
  },
  {
   "cell_type": "code",
   "execution_count": 12,
   "metadata": {},
   "outputs": [],
   "source": [
    "# ===================================\n",
    "# \n",
    "# DATA CLEANING\n",
    "#\n",
    "# ===================================\n",
    "df_user = raw_df_user.copy()\n",
    "df_ascent = raw_df_ascent.copy()"
   ]
  },
  {
   "cell_type": "code",
   "execution_count": 13,
   "metadata": {},
   "outputs": [],
   "source": [
    "# -----------------------------------\n",
    "# USER DATAFRAME\n",
    "\n",
    "# Drop unnecessary columns\n",
    "df_user = df_user.drop(columns=['first_name', 'last_name', 'city', 'country', \n",
    "        'competitions', 'occupation', 'sponsor1', 'sponsor2', \n",
    "        'sponsor3', 'best_area', 'worst_area', 'guide_area',\n",
    "        'interests', 'presentation', 'deactivated', 'anonymous'])"
   ]
  },
  {
   "cell_type": "code",
   "execution_count": 14,
   "metadata": {},
   "outputs": [
    {
     "name": "stdout",
     "output_type": "stream",
     "text": [
      "No duplicate user IDs\n"
     ]
    }
   ],
   "source": [
    "# ---- NULL/EMPTY VALUES\n",
    "# Check for duplicate user IDs\n",
    "if df_user['id'].duplicated().sum() == 0:\n",
    "    print('No duplicate user IDs')\n",
    "else:\n",
    "    print('*** Duplicate user IDs found ***')"
   ]
  },
  {
   "cell_type": "code",
   "execution_count": 15,
   "metadata": {},
   "outputs": [
    {
     "name": "stdout",
     "output_type": "stream",
     "text": [
      "*** NULL values found ***\n",
      "----------------\n",
      "id             0\n",
      "sex            0\n",
      "height         0\n",
      "weight         0\n",
      "started        0\n",
      "birth      34737\n",
      "dtype: int64\n",
      "----------------\n",
      "\n",
      "\n",
      "No empty string values\n"
     ]
    }
   ],
   "source": [
    "# NULL and empty value check\n",
    "if df_user.isnull().sum().sum() == 0:\n",
    "    print('No NULL values')\n",
    "else:\n",
    "    print('*** NULL values found ***')\n",
    "    print('----------------')\n",
    "    print(df_user.isnull().sum())\n",
    "    print('----------------')\n",
    "    \n",
    "if df_user[df_user==''].sum().sum() == 0:\n",
    "    print('\\n')\n",
    "    print('No empty string values')\n",
    "else:\n",
    "    print('\\n')\n",
    "    print('*** Empty strings found ***')\n",
    "    print('----------------')\n",
    "    print(df_user[df_user==''].sum())\n",
    "    print('----------------')"
   ]
  },
  {
   "cell_type": "code",
   "execution_count": 16,
   "metadata": {},
   "outputs": [
    {
     "data": {
      "text/plain": [
       "Text(0.5,1,'Null value heatmap (yellow is NULL)')"
      ]
     },
     "execution_count": 16,
     "metadata": {},
     "output_type": "execute_result"
    },
    {
     "data": {
      "image/png": "[encoded data removed]",
      "text/plain": [
       "<Figure size 1008x360 with 1 Axes>"
      ]
     },
     "metadata": {},
     "output_type": "display_data"
    }
   ],
   "source": [
    "# Null value heatmap\n",
    "plt.figure(figsize=(14,5))\n",
    "sns.heatmap(df_user.isnull(), yticklabels=False, cbar=False, cmap='viridis')\n",
    "plt.xlabel('Features')\n",
    "plt.title('Null value heatmap (yellow is NULL)')"
   ]
  },
  {
   "cell_type": "code",
   "execution_count": 17,
   "metadata": {},
   "outputs": [
    {
     "data": {
      "text/plain": [
       "0.5549662102791046"
      ]
     },
     "execution_count": 17,
     "metadata": {},
     "output_type": "execute_result"
    }
   ],
   "source": [
    "# NULL value percentage\n",
    "df_user['birth'].isnull().sum()/len(df_user['birth'])"
   ]
  },
  {
   "cell_type": "markdown",
   "metadata": {},
   "source": [
    "More than half of the users do not have 'birth' values logged. Instead of imputing these values we will use a reduced dataset when considering age as a variable."
   ]
  },
  {
   "cell_type": "code",
   "execution_count": 18,
   "metadata": {},
   "outputs": [],
   "source": [
    "# ---- DATA TYPES ----"
   ]
  },
  {
   "cell_type": "code",
   "execution_count": 19,
   "metadata": {},
   "outputs": [
    {
     "data": {
      "text/html": [
       "<div>\n",
       "<style scoped>\n",
       "    .dataframe tbody tr th:only-of-type {\n",
       "        vertical-align: middle;\n",
       "    }\n",
       "\n",
       "    .dataframe tbody tr th {\n",
       "        vertical-align: top;\n",
       "    }\n",
       "\n",
       "    .dataframe thead th {\n",
       "        text-align: right;\n",
       "    }\n",
       "</style>\n",
       "<table border=\"1\" class=\"dataframe\">\n",
       "  <thead>\n",
       "    <tr style=\"text-align: right;\">\n",
       "      <th></th>\n",
       "      <th>id</th>\n",
       "      <th>sex</th>\n",
       "      <th>height</th>\n",
       "      <th>weight</th>\n",
       "      <th>started</th>\n",
       "      <th>birth</th>\n",
       "    </tr>\n",
       "  </thead>\n",
       "  <tbody>\n",
       "    <tr>\n",
       "      <th>0</th>\n",
       "      <td>1</td>\n",
       "      <td>0</td>\n",
       "      <td>177</td>\n",
       "      <td>73</td>\n",
       "      <td>1996</td>\n",
       "      <td>1976-03-10</td>\n",
       "    </tr>\n",
       "    <tr>\n",
       "      <th>1</th>\n",
       "      <td>2</td>\n",
       "      <td>0</td>\n",
       "      <td>0</td>\n",
       "      <td>0</td>\n",
       "      <td>2000</td>\n",
       "      <td>NaN</td>\n",
       "    </tr>\n",
       "    <tr>\n",
       "      <th>2</th>\n",
       "      <td>3</td>\n",
       "      <td>0</td>\n",
       "      <td>180</td>\n",
       "      <td>78</td>\n",
       "      <td>1995</td>\n",
       "      <td>1973-09-09</td>\n",
       "    </tr>\n",
       "    <tr>\n",
       "      <th>3</th>\n",
       "      <td>4</td>\n",
       "      <td>1</td>\n",
       "      <td>165</td>\n",
       "      <td>58</td>\n",
       "      <td>2001</td>\n",
       "      <td>1984-07-26</td>\n",
       "    </tr>\n",
       "    <tr>\n",
       "      <th>4</th>\n",
       "      <td>5</td>\n",
       "      <td>0</td>\n",
       "      <td>0</td>\n",
       "      <td>0</td>\n",
       "      <td>1991</td>\n",
       "      <td>1969-05-07</td>\n",
       "    </tr>\n",
       "  </tbody>\n",
       "</table>\n",
       "</div>"
      ],
      "text/plain": [
       "   id  sex  height  weight  started       birth\n",
       "0   1    0     177      73     1996  1976-03-10\n",
       "1   2    0       0       0     2000         NaN\n",
       "2   3    0     180      78     1995  1973-09-09\n",
       "3   4    1     165      58     2001  1984-07-26\n",
       "4   5    0       0       0     1991  1969-05-07"
      ]
     },
     "execution_count": 19,
     "metadata": {},
     "output_type": "execute_result"
    }
   ],
   "source": [
    "df_user.head()"
   ]
  },
  {
   "cell_type": "code",
   "execution_count": 20,
   "metadata": {},
   "outputs": [
    {
     "name": "stdout",
     "output_type": "stream",
     "text": [
      "<class 'pandas.core.frame.DataFrame'>\n",
      "Int64Index: 62593 entries, 0 to 62592\n",
      "Data columns (total 6 columns):\n",
      "id         62593 non-null int64\n",
      "sex        62593 non-null int64\n",
      "height     62593 non-null int64\n",
      "weight     62593 non-null int64\n",
      "started    62593 non-null int64\n",
      "birth      27856 non-null object\n",
      "dtypes: int64(5), object(1)\n",
      "memory usage: 3.3+ MB\n"
     ]
    }
   ],
   "source": [
    "# Check dataframe\n",
    "df_user.info()"
   ]
  },
  {
   "cell_type": "code",
   "execution_count": 21,
   "metadata": {},
   "outputs": [
    {
     "data": {
      "text/plain": [
       "array([  0,   1, 255], dtype=int64)"
      ]
     },
     "execution_count": 21,
     "metadata": {},
     "output_type": "execute_result"
    }
   ],
   "source": [
    "df_user['sex'].unique()"
   ]
  },
  {
   "cell_type": "code",
   "execution_count": 22,
   "metadata": {},
   "outputs": [
    {
     "data": {
      "text/plain": [
       "0      53898\n",
       "1       8691\n",
       "255        4\n",
       "Name: sex, dtype: int64"
      ]
     },
     "execution_count": 22,
     "metadata": {},
     "output_type": "execute_result"
    }
   ],
   "source": [
    "df_user['sex'].value_counts()"
   ]
  },
  {
   "cell_type": "code",
   "execution_count": 23,
   "metadata": {},
   "outputs": [],
   "source": [
    "# Drop sex=255\n",
    "df_user = df_user.drop(index=list(df_user[df_user['sex']==255].index))"
   ]
  },
  {
   "cell_type": "code",
   "execution_count": 24,
   "metadata": {},
   "outputs": [],
   "source": [
    "# Sex dummy variables"
   ]
  },
  {
   "cell_type": "code",
   "execution_count": 25,
   "metadata": {},
   "outputs": [
    {
     "data": {
      "text/html": [
       "<div>\n",
       "<style scoped>\n",
       "    .dataframe tbody tr th:only-of-type {\n",
       "        vertical-align: middle;\n",
       "    }\n",
       "\n",
       "    .dataframe tbody tr th {\n",
       "        vertical-align: top;\n",
       "    }\n",
       "\n",
       "    .dataframe thead th {\n",
       "        text-align: right;\n",
       "    }\n",
       "</style>\n",
       "<table border=\"1\" class=\"dataframe\">\n",
       "  <thead>\n",
       "    <tr style=\"text-align: right;\">\n",
       "      <th></th>\n",
       "      <th>id</th>\n",
       "      <th>height</th>\n",
       "      <th>weight</th>\n",
       "      <th>started</th>\n",
       "    </tr>\n",
       "    <tr>\n",
       "      <th>sex</th>\n",
       "      <th></th>\n",
       "      <th></th>\n",
       "      <th></th>\n",
       "      <th></th>\n",
       "    </tr>\n",
       "  </thead>\n",
       "  <tbody>\n",
       "    <tr>\n",
       "      <th>0</th>\n",
       "      <td>32624.790122</td>\n",
       "      <td>85.152065</td>\n",
       "      <td>34.961297</td>\n",
       "      <td>1070.977940</td>\n",
       "    </tr>\n",
       "    <tr>\n",
       "      <th>1</th>\n",
       "      <td>36105.076056</td>\n",
       "      <td>76.043263</td>\n",
       "      <td>21.729951</td>\n",
       "      <td>1075.661834</td>\n",
       "    </tr>\n",
       "  </tbody>\n",
       "</table>\n",
       "</div>"
      ],
      "text/plain": [
       "               id     height     weight      started\n",
       "sex                                                 \n",
       "0    32624.790122  85.152065  34.961297  1070.977940\n",
       "1    36105.076056  76.043263  21.729951  1075.661834"
      ]
     },
     "execution_count": 25,
     "metadata": {},
     "output_type": "execute_result"
    }
   ],
   "source": [
    "df_user.groupby(by='sex').mean()"
   ]
  },
  {
   "cell_type": "markdown",
   "metadata": {},
   "source": [
    "There are significantly less sex=1 users and sex=1 users are on average shorter and lighter. It is thus assumed that sex=1 refers to females. As such, let's rename 'sex' to 'is_female'."
   ]
  },
  {
   "cell_type": "code",
   "execution_count": 26,
   "metadata": {},
   "outputs": [],
   "source": [
    "df_user.rename(columns={'sex':'is_female'}, inplace=True)"
   ]
  },
  {
   "cell_type": "code",
   "execution_count": 27,
   "metadata": {},
   "outputs": [
    {
     "name": "stdout",
     "output_type": "stream",
     "text": [
      "[0, 1, 2, 3, 4, 5, 6, 7, 8, 10, 14, 15, 17, 18, 20, 22, 23, 25, 27, 30, 35, 45, 46, 48, 49, 52, 54, 55, 56, 57, 58, 60, 61, 62, 63, 64, 65, 66, 67, 68, 69, 70, 71, 72, 73, 74, 75, 76, 78, 79, 80, 83, 84, 85, 86, 88, 89, 90, 91, 94, 95, 96, 99, 100, 101, 102, 105, 110, 111, 112, 113, 114, 115, 118, 120, 121, 122, 123, 124, 125, 126, 127, 128, 129, 130, 132, 133, 134, 135, 136, 137, 138, 139, 140, 141, 142, 143, 144, 145, 146, 147, 148, 149, 150, 151, 152, 153, 154, 155, 156, 157, 158, 159, 160, 161, 162, 163, 164, 165, 166, 167, 168, 169, 170, 171, 172, 173, 174, 175, 176, 177, 178, 179, 180, 181, 182, 183, 184, 185, 186, 187, 188, 189, 190, 191, 192, 193, 194, 195, 196, 197, 198, 199, 200, 201, 202, 203, 204, 205, 206, 207, 208, 210, 211, 212, 213, 214, 215, 216, 217, 219, 220, 222, 225, 228, 230, 233, 234, 247, 250, 251, 254, 255]\n"
     ]
    }
   ],
   "source": [
    "# ---- FILTER ----\n",
    "# Filter to realistic heights\n",
    "print(sorted(df_user['height'].unique()))"
   ]
  },
  {
   "cell_type": "markdown",
   "metadata": {},
   "source": [
    "These values are presumably centimeters. Let's filter to users having logged height between 120 and 240 cm (~4-8 feet)"
   ]
  },
  {
   "cell_type": "code",
   "execution_count": 28,
   "metadata": {},
   "outputs": [
    {
     "name": "stdout",
     "output_type": "stream",
     "text": [
      "[0, 1901, 1902, 1906, 1907, 1909, 1912, 1914, 1915, 1917, 1919, 1920, 1922, 1925, 1928, 1929, 1938, 1942, 1943, 1945, 1950, 1952, 1956, 1957, 1958, 1960, 1962, 1963, 1964, 1965, 1966, 1967, 1968, 1969, 1970, 1971, 1972, 1973, 1974, 1975, 1976, 1977, 1978, 1979, 1980, 1981, 1982, 1983, 1984, 1985, 1986, 1987, 1988, 1989, 1990, 1991, 1992, 1993, 1994, 1995, 1996, 1997, 1998, 1999, 2000, 2001, 2002, 2003, 2004, 2005, 2006, 2007, 2008, 2009, 2010, 2011, 2012, 2013, 2014, 2015, 2016, 2017, 2019, 2020, 2021, 2025, 2050, 2090]\n"
     ]
    }
   ],
   "source": [
    "# ---- DATES ----\n",
    "# Manage dates; extract years and convert to floats (to deal with NaNs)\n",
    "print(sorted(df_user['started'].unique()))"
   ]
  },
  {
   "cell_type": "code",
   "execution_count": 29,
   "metadata": {},
   "outputs": [],
   "source": [
    "df_user['started'] = pd.to_datetime(df_user['started'], errors='coerce', format='%Y')"
   ]
  },
  {
   "cell_type": "code",
   "execution_count": 30,
   "metadata": {},
   "outputs": [],
   "source": [
    "df_user['started'] = [date.year for date in df_user['started']]"
   ]
  },
  {
   "cell_type": "code",
   "execution_count": 31,
   "metadata": {},
   "outputs": [],
   "source": [
    "df_user['birth_year'] = pd.to_datetime(df_user['birth'], errors='coerce')"
   ]
  },
  {
   "cell_type": "code",
   "execution_count": 32,
   "metadata": {},
   "outputs": [],
   "source": [
    "df_user = df_user.drop(columns='birth')"
   ]
  },
  {
   "cell_type": "code",
   "execution_count": 33,
   "metadata": {},
   "outputs": [],
   "source": [
    "df_user['birth_year'] = [date.year for date in df_user['birth_year']]"
   ]
  },
  {
   "cell_type": "code",
   "execution_count": 34,
   "metadata": {},
   "outputs": [
    {
     "data": {
      "text/html": [
       "<div>\n",
       "<style scoped>\n",
       "    .dataframe tbody tr th:only-of-type {\n",
       "        vertical-align: middle;\n",
       "    }\n",
       "\n",
       "    .dataframe tbody tr th {\n",
       "        vertical-align: top;\n",
       "    }\n",
       "\n",
       "    .dataframe thead th {\n",
       "        text-align: right;\n",
       "    }\n",
       "</style>\n",
       "<table border=\"1\" class=\"dataframe\">\n",
       "  <thead>\n",
       "    <tr style=\"text-align: right;\">\n",
       "      <th></th>\n",
       "      <th>id</th>\n",
       "      <th>is_female</th>\n",
       "      <th>height</th>\n",
       "      <th>weight</th>\n",
       "      <th>started</th>\n",
       "      <th>birth_year</th>\n",
       "    </tr>\n",
       "  </thead>\n",
       "  <tbody>\n",
       "    <tr>\n",
       "      <th>0</th>\n",
       "      <td>1</td>\n",
       "      <td>0</td>\n",
       "      <td>177</td>\n",
       "      <td>73</td>\n",
       "      <td>1996.0</td>\n",
       "      <td>1976.0</td>\n",
       "    </tr>\n",
       "    <tr>\n",
       "      <th>1</th>\n",
       "      <td>2</td>\n",
       "      <td>0</td>\n",
       "      <td>0</td>\n",
       "      <td>0</td>\n",
       "      <td>2000.0</td>\n",
       "      <td>NaN</td>\n",
       "    </tr>\n",
       "    <tr>\n",
       "      <th>2</th>\n",
       "      <td>3</td>\n",
       "      <td>0</td>\n",
       "      <td>180</td>\n",
       "      <td>78</td>\n",
       "      <td>1995.0</td>\n",
       "      <td>1973.0</td>\n",
       "    </tr>\n",
       "    <tr>\n",
       "      <th>3</th>\n",
       "      <td>4</td>\n",
       "      <td>1</td>\n",
       "      <td>165</td>\n",
       "      <td>58</td>\n",
       "      <td>2001.0</td>\n",
       "      <td>1984.0</td>\n",
       "    </tr>\n",
       "    <tr>\n",
       "      <th>4</th>\n",
       "      <td>5</td>\n",
       "      <td>0</td>\n",
       "      <td>0</td>\n",
       "      <td>0</td>\n",
       "      <td>1991.0</td>\n",
       "      <td>1969.0</td>\n",
       "    </tr>\n",
       "  </tbody>\n",
       "</table>\n",
       "</div>"
      ],
      "text/plain": [
       "   id  is_female  height  weight  started  birth_year\n",
       "0   1          0     177      73   1996.0      1976.0\n",
       "1   2          0       0       0   2000.0         NaN\n",
       "2   3          0     180      78   1995.0      1973.0\n",
       "3   4          1     165      58   2001.0      1984.0\n",
       "4   5          0       0       0   1991.0      1969.0"
      ]
     },
     "execution_count": 34,
     "metadata": {},
     "output_type": "execute_result"
    }
   ],
   "source": [
    "df_user.head()"
   ]
  },
  {
   "cell_type": "code",
   "execution_count": 35,
   "metadata": {},
   "outputs": [
    {
     "name": "stdout",
     "output_type": "stream",
     "text": [
      "<class 'pandas.core.frame.DataFrame'>\n",
      "Int64Index: 62589 entries, 0 to 62592\n",
      "Data columns (total 6 columns):\n",
      "id            62589 non-null int64\n",
      "is_female     62589 non-null int64\n",
      "height        62589 non-null int64\n",
      "weight        62589 non-null int64\n",
      "started       33470 non-null float64\n",
      "birth_year    27854 non-null float64\n",
      "dtypes: float64(2), int64(4)\n",
      "memory usage: 3.3 MB\n"
     ]
    }
   ],
   "source": [
    "df_user.info()"
   ]
  },
  {
   "cell_type": "code",
   "execution_count": 36,
   "metadata": {},
   "outputs": [],
   "source": [
    "# Checkpoint\n",
    "checkpoint_df_user_1 = df_user.copy()"
   ]
  },
  {
   "cell_type": "code",
   "execution_count": 37,
   "metadata": {},
   "outputs": [],
   "source": [
    "# -----------------------------------\n",
    "# ASCENT DATAFRAME\n",
    "\n",
    "# ---- DROP COLUMNS ----\n",
    "df_ascent = df_ascent.drop(columns=['notes', 'raw_notes', 'method_id',\n",
    "        'total_score', 'date', 'last_year', 'rec_date', 'project_ascent_date', \n",
    "        'name', 'crag_id', 'crag', 'sector_id', 'sector', 'country', 'comment', \n",
    "        'rating', 'description', 'yellow_id', 'climb_try', 'repeat', \n",
    "        'exclude_from_ranking', 'user_recommended', 'chipped'])"
   ]
  },
  {
   "cell_type": "code",
   "execution_count": 38,
   "metadata": {},
   "outputs": [
    {
     "data": {
      "text/plain": [
       "Index(['id', 'user_id', 'grade_id', 'climb_type', 'year'], dtype='object')"
      ]
     },
     "execution_count": 38,
     "metadata": {},
     "output_type": "execute_result"
    }
   ],
   "source": [
    "df_ascent.columns"
   ]
  },
  {
   "cell_type": "code",
   "execution_count": 39,
   "metadata": {},
   "outputs": [
    {
     "name": "stdout",
     "output_type": "stream",
     "text": [
      "*** Duplicate ascent IDs found ***\n"
     ]
    }
   ],
   "source": [
    "# ---- DUPLICATES ----\n",
    "if df_ascent['id'].duplicated().sum() == 0:\n",
    "    print('No duplicate ascent IDs')\n",
    "else:\n",
    "    print('*** Duplicate ascent IDs found ***')"
   ]
  },
  {
   "cell_type": "code",
   "execution_count": 40,
   "metadata": {},
   "outputs": [
    {
     "data": {
      "text/html": [
       "<div>\n",
       "<style scoped>\n",
       "    .dataframe tbody tr th:only-of-type {\n",
       "        vertical-align: middle;\n",
       "    }\n",
       "\n",
       "    .dataframe tbody tr th {\n",
       "        vertical-align: top;\n",
       "    }\n",
       "\n",
       "    .dataframe thead th {\n",
       "        text-align: right;\n",
       "    }\n",
       "</style>\n",
       "<table border=\"1\" class=\"dataframe\">\n",
       "  <thead>\n",
       "    <tr style=\"text-align: right;\">\n",
       "      <th></th>\n",
       "      <th>id</th>\n",
       "      <th>user_id</th>\n",
       "      <th>grade_id</th>\n",
       "      <th>climb_type</th>\n",
       "      <th>year</th>\n",
       "    </tr>\n",
       "  </thead>\n",
       "  <tbody>\n",
       "    <tr>\n",
       "      <th>ux. 3rd go</th>\n",
       "      <td>3</td>\n",
       "      <td>NaN</td>\n",
       "      <td>255</td>\n",
       "      <td>0</td>\n",
       "      <td>NaN</td>\n",
       "    </tr>\n",
       "  </tbody>\n",
       "</table>\n",
       "</div>"
      ],
      "text/plain": [
       "            id  user_id  grade_id  climb_type  year\n",
       "ux. 3rd go   3      NaN       255           0   NaN"
      ]
     },
     "execution_count": 40,
     "metadata": {},
     "output_type": "execute_result"
    }
   ],
   "source": [
    "df_ascent[df_ascent['id'].duplicated()]"
   ]
  },
  {
   "cell_type": "code",
   "execution_count": 41,
   "metadata": {},
   "outputs": [
    {
     "name": "stdout",
     "output_type": "stream",
     "text": [
      "*** NULL values found ***\n",
      "----------------\n",
      "id            0\n",
      "user_id       1\n",
      "grade_id      0\n",
      "climb_type    0\n",
      "year          1\n",
      "dtype: int64\n",
      "----------------\n",
      "\n",
      "\n",
      "No empty string values\n"
     ]
    }
   ],
   "source": [
    "# ---- NULL/EMPTY ----\n",
    "if df_ascent.isnull().sum().sum() == 0:\n",
    "    print('No NULL values')\n",
    "else:\n",
    "    print('*** NULL values found ***')\n",
    "    print('----------------')\n",
    "    print(df_ascent.isnull().sum())\n",
    "    print('----------------')\n",
    "    \n",
    "if df_ascent[df_ascent==''].sum().sum() == 0:\n",
    "    print('\\n')\n",
    "    print('No empty string values')\n",
    "else:\n",
    "    print('\\n')\n",
    "    print('*** Empty strings found ***')\n",
    "    print('----------------')\n",
    "    print(df_ascent[df_ascent==''].sum())\n",
    "    print('----------------')"
   ]
  },
  {
   "cell_type": "code",
   "execution_count": 42,
   "metadata": {},
   "outputs": [],
   "source": [
    "df_ascent = df_ascent.dropna()"
   ]
  },
  {
   "cell_type": "code",
   "execution_count": 43,
   "metadata": {},
   "outputs": [
    {
     "name": "stdout",
     "output_type": "stream",
     "text": [
      "No NULL values\n",
      "\n",
      "\n",
      "No empty string values\n"
     ]
    }
   ],
   "source": [
    "# NULL and empty value check\n",
    "if df_ascent.isnull().sum().sum() == 0:\n",
    "    print('No NULL values')\n",
    "else:\n",
    "    print('*** NULL values found ***')\n",
    "    print('----------------')\n",
    "    print(df_ascent.isnull().sum())\n",
    "    print('----------------')\n",
    "    \n",
    "if df_ascent[df_ascent==''].sum().sum() == 0:\n",
    "    print('\\n')\n",
    "    print('No empty string values')\n",
    "else:\n",
    "    print('\\n')\n",
    "    print('*** Empty strings found ***')\n",
    "    print('----------------')\n",
    "    print(df_ascent[df_ascent==''].sum())\n",
    "    print('----------------')"
   ]
  },
  {
   "cell_type": "code",
   "execution_count": 44,
   "metadata": {},
   "outputs": [
    {
     "name": "stdout",
     "output_type": "stream",
     "text": [
      "No duplicate ascent IDs\n"
     ]
    }
   ],
   "source": [
    "# Check for duplicate ascent IDs\n",
    "if df_ascent['id'].duplicated().sum() == 0:\n",
    "    print('No duplicate ascent IDs')\n",
    "else:\n",
    "    print('*** Duplicate ascent IDs found ***')"
   ]
  },
  {
   "cell_type": "code",
   "execution_count": 45,
   "metadata": {},
   "outputs": [
    {
     "name": "stdout",
     "output_type": "stream",
     "text": [
      "<class 'pandas.core.frame.DataFrame'>\n",
      "Index: 4111877 entries, 0 to 4111876\n",
      "Data columns (total 5 columns):\n",
      "id            int64\n",
      "user_id       float64\n",
      "grade_id      int64\n",
      "climb_type    int64\n",
      "year          float64\n",
      "dtypes: float64(2), int64(3)\n",
      "memory usage: 188.2+ MB\n"
     ]
    }
   ],
   "source": [
    "# ---- DATA TYPES ----\n",
    "df_ascent.info()"
   ]
  },
  {
   "cell_type": "code",
   "execution_count": 46,
   "metadata": {},
   "outputs": [],
   "source": [
    "# Convert user id to integer\n",
    "df_ascent['user_id'] = [int(value) for value in df_ascent['user_id']]"
   ]
  },
  {
   "cell_type": "code",
   "execution_count": 47,
   "metadata": {},
   "outputs": [
    {
     "name": "stdout",
     "output_type": "stream",
     "text": [
      "[0.0, 7.0, 11.0, 13.0, 16.0, 199.0, 200.0, 201.0, 203.0, 205.0, 207.0, 208.0, 209.0, 1009.0, 1095.0, 1980.0, 1981.0, 1982.0, 1983.0, 1984.0, 1985.0, 1986.0, 1987.0, 1988.0, 1989.0, 1990.0, 1991.0, 1992.0, 1993.0, 1994.0, 1995.0, 1996.0, 1997.0, 1998.0, 1999.0, 2000.0, 2001.0, 2002.0, 2003.0, 2004.0, 2005.0, 2006.0, 2007.0, 2008.0, 2009.0, 2010.0, 2011.0, 2012.0, 2013.0, 2014.0, 2015.0, 2016.0, 2017.0, 2018.0, 2019.0]\n"
     ]
    }
   ],
   "source": [
    "# Look at year\n",
    "print(sorted(df_ascent['year'].unique()))"
   ]
  },
  {
   "cell_type": "markdown",
   "metadata": {},
   "source": [
    "There are many bogus years included but we'll leave them for now."
   ]
  },
  {
   "cell_type": "code",
   "execution_count": 48,
   "metadata": {},
   "outputs": [],
   "source": [
    "# Checkpoint\n",
    "checkpoint_df_ascent_1 = df_ascent.copy()"
   ]
  },
  {
   "cell_type": "code",
   "execution_count": 61,
   "metadata": {},
   "outputs": [
    {
     "data": {
      "text/html": [
       "<div>\n",
       "<style scoped>\n",
       "    .dataframe tbody tr th:only-of-type {\n",
       "        vertical-align: middle;\n",
       "    }\n",
       "\n",
       "    .dataframe tbody tr th {\n",
       "        vertical-align: top;\n",
       "    }\n",
       "\n",
       "    .dataframe thead th {\n",
       "        text-align: right;\n",
       "    }\n",
       "</style>\n",
       "<table border=\"1\" class=\"dataframe\">\n",
       "  <thead>\n",
       "    <tr style=\"text-align: right;\">\n",
       "      <th></th>\n",
       "      <th>id</th>\n",
       "      <th>score</th>\n",
       "      <th>fra_routes</th>\n",
       "      <th>fra_routes_input</th>\n",
       "      <th>fra_routes_selector</th>\n",
       "      <th>fra_boulders</th>\n",
       "      <th>fra_boulders_input</th>\n",
       "      <th>fra_boulders_selector</th>\n",
       "      <th>usa_routes</th>\n",
       "      <th>usa_routes_input</th>\n",
       "      <th>usa_routes_selector</th>\n",
       "      <th>usa_boulders</th>\n",
       "      <th>usa_boulders_input</th>\n",
       "      <th>usa_boulders_selector</th>\n",
       "    </tr>\n",
       "  </thead>\n",
       "  <tbody>\n",
       "    <tr>\n",
       "      <th>0</th>\n",
       "      <td>1</td>\n",
       "      <td>0</td>\n",
       "      <td>-</td>\n",
       "      <td>1</td>\n",
       "      <td>1</td>\n",
       "      <td>-</td>\n",
       "      <td>1</td>\n",
       "      <td>1</td>\n",
       "      <td>3/4</td>\n",
       "      <td>1</td>\n",
       "      <td>1</td>\n",
       "      <td>VB</td>\n",
       "      <td>1</td>\n",
       "      <td>1</td>\n",
       "    </tr>\n",
       "    <tr>\n",
       "      <th>1</th>\n",
       "      <td>2</td>\n",
       "      <td>0</td>\n",
       "      <td>1</td>\n",
       "      <td>0</td>\n",
       "      <td>0</td>\n",
       "      <td>1</td>\n",
       "      <td>0</td>\n",
       "      <td>0</td>\n",
       "      <td>NaN</td>\n",
       "      <td>0</td>\n",
       "      <td>0</td>\n",
       "      <td>NaN</td>\n",
       "      <td>0</td>\n",
       "      <td>0</td>\n",
       "    </tr>\n",
       "    <tr>\n",
       "      <th>2</th>\n",
       "      <td>3</td>\n",
       "      <td>0</td>\n",
       "      <td>1a</td>\n",
       "      <td>0</td>\n",
       "      <td>0</td>\n",
       "      <td>1A</td>\n",
       "      <td>0</td>\n",
       "      <td>0</td>\n",
       "      <td>NaN</td>\n",
       "      <td>0</td>\n",
       "      <td>0</td>\n",
       "      <td>NaN</td>\n",
       "      <td>0</td>\n",
       "      <td>0</td>\n",
       "    </tr>\n",
       "    <tr>\n",
       "      <th>3</th>\n",
       "      <td>4</td>\n",
       "      <td>0</td>\n",
       "      <td>1b</td>\n",
       "      <td>0</td>\n",
       "      <td>0</td>\n",
       "      <td>1B</td>\n",
       "      <td>0</td>\n",
       "      <td>0</td>\n",
       "      <td>NaN</td>\n",
       "      <td>0</td>\n",
       "      <td>0</td>\n",
       "      <td>NaN</td>\n",
       "      <td>0</td>\n",
       "      <td>0</td>\n",
       "    </tr>\n",
       "    <tr>\n",
       "      <th>4</th>\n",
       "      <td>5</td>\n",
       "      <td>0</td>\n",
       "      <td>1c</td>\n",
       "      <td>0</td>\n",
       "      <td>0</td>\n",
       "      <td>1C</td>\n",
       "      <td>0</td>\n",
       "      <td>0</td>\n",
       "      <td>NaN</td>\n",
       "      <td>0</td>\n",
       "      <td>0</td>\n",
       "      <td>NaN</td>\n",
       "      <td>0</td>\n",
       "      <td>0</td>\n",
       "    </tr>\n",
       "  </tbody>\n",
       "</table>\n",
       "</div>"
      ],
      "text/plain": [
       "   id  score fra_routes  fra_routes_input  fra_routes_selector fra_boulders  \\\n",
       "0   1      0          -                 1                    1            -   \n",
       "1   2      0          1                 0                    0            1   \n",
       "2   3      0         1a                 0                    0           1A   \n",
       "3   4      0         1b                 0                    0           1B   \n",
       "4   5      0         1c                 0                    0           1C   \n",
       "\n",
       "   fra_boulders_input  fra_boulders_selector usa_routes  usa_routes_input  \\\n",
       "0                   1                      1        3/4                 1   \n",
       "1                   0                      0        NaN                 0   \n",
       "2                   0                      0        NaN                 0   \n",
       "3                   0                      0        NaN                 0   \n",
       "4                   0                      0        NaN                 0   \n",
       "\n",
       "   usa_routes_selector usa_boulders  usa_boulders_input  usa_boulders_selector  \n",
       "0                    1           VB                   1                      1  \n",
       "1                    0          NaN                   0                      0  \n",
       "2                    0          NaN                   0                      0  \n",
       "3                    0          NaN                   0                      0  \n",
       "4                    0          NaN                   0                      0  "
      ]
     },
     "execution_count": 61,
     "metadata": {},
     "output_type": "execute_result"
    }
   ],
   "source": [
    "# -----------------------------------\n",
    "# GRADE DATAFRAME\n",
    "raw_df_grade.head()"
   ]
  },
  {
   "cell_type": "code",
   "execution_count": 66,
   "metadata": {},
   "outputs": [
    {
     "data": {
      "text/plain": [
       "83"
      ]
     },
     "execution_count": 66,
     "metadata": {},
     "output_type": "execute_result"
    }
   ],
   "source": [
    "raw_df_grade['id'].nunique()"
   ]
  },
  {
   "cell_type": "code",
   "execution_count": 68,
   "metadata": {},
   "outputs": [
    {
     "name": "stdout",
     "output_type": "stream",
     "text": [
      "[1, 2, 3, 4, 5, 6, 7, 8, 9, 10, 11, 12, 13, 14, 15, 16, 17, 18, 19, 20, 21, 22, 23, 24, 25, 26, 27, 28, 29, 30, 31, 32, 33, 34, 35, 36, 37, 38, 39, 40, 41, 42, 43, 44, 45, 46, 47, 49, 50, 51, 52, 53, 54, 55, 56, 57, 58, 59, 60, 62, 63, 64, 65, 66, 67, 68, 69, 70, 71, 72, 73, 75, 76, 77, 78, 79, 80, 81, 82, 83, 84, 85, 86]\n"
     ]
    }
   ],
   "source": [
    "print(sorted(raw_df_grade['id'].unique()))"
   ]
  },
  {
   "cell_type": "code",
   "execution_count": 69,
   "metadata": {},
   "outputs": [
    {
     "name": "stdout",
     "output_type": "stream",
     "text": [
      "['-', '1', '1+', '1a', '1b', '1c', '2', '2+', '2a', '2b', '2c', '3', '3+', '3a', '3a+', '3b', '3b+', '3c', '3c+', '4', '4+', '4a', '4a+', '4b', '4b+', '4c', '4c+', '5', '5a', '5a+', '5b', '5b+', '5c', '5c+', '6', '6a', '6a+', '6a+/6b', '6a/+', '6b', '6b+', '6b+/6c', '6b/+', '6c', '6c+', '6c+/7a', '6c/+', '7a', '7a+', '7a+/7b', '7a/+', '7b', '7b+', '7b+/7c', '7b/+', '7c', '7c+', '7c+/8a', '7c/+', '8a', '8a+', '8a+/8b', '8a/+', '8b', '8b+', '8b+/8c', '8b/+', '8c', '8c+', '8c+/9a', '8c/+', '9a', '9a+', '9a+/9b', '9a/+', '9b', '9b+', '9b+/9c', '9b/+', '9c', '9c+', '9c+/10a', '9c/+']\n"
     ]
    }
   ],
   "source": [
    "print(sorted(raw_df_grade['fra_routes'].unique()))"
   ]
  },
  {
   "cell_type": "code",
   "execution_count": 60,
   "metadata": {},
   "outputs": [
    {
     "data": {
      "text/html": [
       "<div>\n",
       "<style scoped>\n",
       "    .dataframe tbody tr th:only-of-type {\n",
       "        vertical-align: middle;\n",
       "    }\n",
       "\n",
       "    .dataframe tbody tr th {\n",
       "        vertical-align: top;\n",
       "    }\n",
       "\n",
       "    .dataframe thead th {\n",
       "        text-align: right;\n",
       "    }\n",
       "</style>\n",
       "<table border=\"1\" class=\"dataframe\">\n",
       "  <thead>\n",
       "    <tr style=\"text-align: right;\">\n",
       "      <th></th>\n",
       "      <th>id</th>\n",
       "      <th>score</th>\n",
       "      <th>shorthand</th>\n",
       "      <th>name</th>\n",
       "    </tr>\n",
       "  </thead>\n",
       "  <tbody>\n",
       "    <tr>\n",
       "      <th>0</th>\n",
       "      <td>1</td>\n",
       "      <td>0</td>\n",
       "      <td>redpoint</td>\n",
       "      <td>Redpoint</td>\n",
       "    </tr>\n",
       "    <tr>\n",
       "      <th>1</th>\n",
       "      <td>2</td>\n",
       "      <td>53</td>\n",
       "      <td>flash</td>\n",
       "      <td>Flash</td>\n",
       "    </tr>\n",
       "    <tr>\n",
       "      <th>2</th>\n",
       "      <td>3</td>\n",
       "      <td>145</td>\n",
       "      <td>onsight</td>\n",
       "      <td>Onsight</td>\n",
       "    </tr>\n",
       "    <tr>\n",
       "      <th>3</th>\n",
       "      <td>4</td>\n",
       "      <td>-52</td>\n",
       "      <td>toprope</td>\n",
       "      <td>Toprope</td>\n",
       "    </tr>\n",
       "    <tr>\n",
       "      <th>4</th>\n",
       "      <td>5</td>\n",
       "      <td>95</td>\n",
       "      <td>onsight</td>\n",
       "      <td>Onsight</td>\n",
       "    </tr>\n",
       "  </tbody>\n",
       "</table>\n",
       "</div>"
      ],
      "text/plain": [
       "   id  score shorthand      name\n",
       "0   1      0  redpoint  Redpoint\n",
       "1   2     53     flash     Flash\n",
       "2   3    145   onsight   Onsight\n",
       "3   4    -52   toprope   Toprope\n",
       "4   5     95   onsight   Onsight"
      ]
     },
     "execution_count": 60,
     "metadata": {},
     "output_type": "execute_result"
    }
   ],
   "source": [
    "# -----------------------------------\n",
    "# METHOD DATAFRAME\n",
    "raw_df_method"
   ]
  },
  {
   "cell_type": "markdown",
   "metadata": {},
   "source": [
    "I don't know what the score column is, but regardless this identifies the different climb types. For this analysis, I will not consider top ropes since I don't think that's a true measure of a person's climbing ability."
   ]
  },
  {
   "cell_type": "code",
   "execution_count": null,
   "metadata": {},
   "outputs": [],
   "source": [
    "# ===================================\n",
    "#\n",
    "# MERGE DATA\n",
    "#\n",
    "# ===================================\n",
    "\n",
    "# -----------------------------------\n",
    "# MERGE USERS WITH ASCENTS\n",
    "df = df_ascent.merge(df_user, left_on='user_id', right_on='id', suffixes=('_ascent','_user'))"
   ]
  },
  {
   "cell_type": "code",
   "execution_count": null,
   "metadata": {},
   "outputs": [],
   "source": [
    "df.columns"
   ]
  },
  {
   "cell_type": "code",
   "execution_count": null,
   "metadata": {},
   "outputs": [],
   "source": [
    "# -----------------------------------\n",
    "# MERGE GRADES"
   ]
  },
  {
   "cell_type": "code",
   "execution_count": null,
   "metadata": {},
   "outputs": [],
   "source": [
    "df = df.drop(columns='id_user')"
   ]
  },
  {
   "cell_type": "code",
   "execution_count": null,
   "metadata": {},
   "outputs": [],
   "source": [
    "df = df.merge(df_grade, left_on='grade_id', right_on='id')"
   ]
  },
  {
   "cell_type": "code",
   "execution_count": null,
   "metadata": {},
   "outputs": [],
   "source": [
    "df = df.drop(columns='id')"
   ]
  },
  {
   "cell_type": "code",
   "execution_count": null,
   "metadata": {},
   "outputs": [],
   "source": [
    "df.columns"
   ]
  },
  {
   "cell_type": "code",
   "execution_count": null,
   "metadata": {},
   "outputs": [],
   "source": [
    "df = df[['user_id', 'is_female', 'height', 'weight', 'birth_year', 'started', \n",
    "    'id_ascent', 'grade_id', 'fra_routes', 'climb_type', 'year']]"
   ]
  },
  {
   "cell_type": "code",
   "execution_count": null,
   "metadata": {},
   "outputs": [],
   "source": [
    "# ---- ADD NEW COLUMNS ----"
   ]
  },
  {
   "cell_type": "code",
   "execution_count": null,
   "metadata": {},
   "outputs": [],
   "source": [
    "df['age'] = df['year'] - df['birth_year']"
   ]
  },
  {
   "cell_type": "code",
   "execution_count": null,
   "metadata": {},
   "outputs": [],
   "source": [
    "df['years_climbing'] = df['year'] - df['started']"
   ]
  },
  {
   "cell_type": "markdown",
   "metadata": {},
   "source": [
    "Note that inspection of several specific climbs with their online descriptions revealed that 'climb_type' refers to whether it is a bouldering climb ('climb_type'=1) or whether it is a rope climb ('climb_type'=0). Let's rename that to 'is_bouldering'."
   ]
  },
  {
   "cell_type": "code",
   "execution_count": null,
   "metadata": {},
   "outputs": [],
   "source": [
    "# Rename columns\n",
    "df.rename(columns={'user_id':'id_user', \n",
    "                   'birth_year':'year_birth',\n",
    "                   'started':'year_started',\n",
    "                   'grade_id':'id_grade',\n",
    "                   'fra_routes':'grade_fr',\n",
    "                   'climb_type':'is_bouldering',\n",
    "                    'year':'year_climbed'}, inplace=True)"
   ]
  },
  {
   "cell_type": "code",
   "execution_count": null,
   "metadata": {
    "scrolled": true
   },
   "outputs": [],
   "source": [
    "df.head()"
   ]
  },
  {
   "cell_type": "code",
   "execution_count": null,
   "metadata": {},
   "outputs": [],
   "source": [
    "# Checkpoint\n",
    "checkpoint_df_1 = df.copy()"
   ]
  },
  {
   "cell_type": "code",
   "execution_count": null,
   "metadata": {},
   "outputs": [],
   "source": [
    "# ===================================\n",
    "#\n",
    "# FINALIZE/FILTER DATA\n",
    "#\n",
    "# ==================================="
   ]
  },
  {
   "cell_type": "markdown",
   "metadata": {},
   "source": [
    "To really gage performance, it's important to not consider every single climb a given user does. Instead, let's extract the most difficult (ie highest 'id_grade') per user. Create different tables for bouldering vs rope climbing and for gender as well."
   ]
  },
  {
   "cell_type": "code",
   "execution_count": null,
   "metadata": {},
   "outputs": [],
   "source": [
    "# Find max bouldering and rope climbing grades per user\n",
    "df_max_grades = df[['id_user','id_grade','is_bouldering']].groupby(by=['id_user','is_bouldering'], as_index=False).max()"
   ]
  },
  {
   "cell_type": "code",
   "execution_count": null,
   "metadata": {},
   "outputs": [],
   "source": [
    "df_max_grades.head()"
   ]
  },
  {
   "cell_type": "code",
   "execution_count": null,
   "metadata": {},
   "outputs": [],
   "source": [
    "# Filter df to only max grades\n",
    "df_all = df_max_grades.merge(df, on=['id_user','id_grade','is_bouldering'])"
   ]
  },
  {
   "cell_type": "code",
   "execution_count": null,
   "metadata": {},
   "outputs": [],
   "source": [
    "# Reduce df to only include first personal best per user\n",
    "df_all = df_all.sort_values(by=['id_user','is_bouldering','year_climbed']).\\\n",
    "        drop_duplicates(subset=['id_user','is_bouldering'], keep='first')"
   ]
  },
  {
   "cell_type": "code",
   "execution_count": null,
   "metadata": {},
   "outputs": [],
   "source": [
    "# -----------------------------------\n",
    "# CREATE GENDER AND CLIMBING TYPE SUBSETS\n",
    "df_bouldering_female = df_all[(df_all['is_bouldering']==1) & (df_all['is_female']==1)]\n",
    "df_bouldering_male =   df_all[(df_all['is_bouldering']==1) & (df_all['is_female']==0)]\n",
    "df_rope_female =       df_all[(df_all['is_bouldering']==0) & (df_all['is_female']==1)]\n",
    "df_rope_male =         df_all[(df_all['is_bouldering']==0) & (df_all['is_female']==0)]"
   ]
  },
  {
   "cell_type": "code",
   "execution_count": null,
   "metadata": {},
   "outputs": [],
   "source": [
    "# Re-order columns\n",
    "df_all.columns"
   ]
  },
  {
   "cell_type": "code",
   "execution_count": null,
   "metadata": {},
   "outputs": [],
   "source": [
    "df_all = df_all[['id_user', 'is_female', 'height', 'weight', 'year_birth', 'year_started', \n",
    "        'id_ascent', 'is_bouldering', 'id_grade', 'grade_fr', 'year_climbed', 'age', 'years_climbing']]\n",
    "df_bouldering_female = df_bouldering_female[['id_user', 'is_female', 'height', 'weight', 'year_birth', 'year_started', \n",
    "        'id_ascent', 'is_bouldering', 'id_grade', 'grade_fr', 'year_climbed', 'age', 'years_climbing']]\n",
    "df_bouldering_male = df_bouldering_male[['id_user', 'is_female', 'height', 'weight', 'year_birth', 'year_started', \n",
    "        'id_ascent', 'is_bouldering', 'id_grade', 'grade_fr', 'year_climbed', 'age', 'years_climbing']]\n",
    "df_rope_female = df_rope_female[['id_user', 'is_female', 'height', 'weight', 'year_birth', 'year_started', \n",
    "        'id_ascent', 'is_bouldering', 'id_grade', 'grade_fr', 'year_climbed', 'age', 'years_climbing']]\n",
    "df_rope_male = df_rope_male[['id_user', 'is_female', 'height', 'weight', 'year_birth', 'year_started', \n",
    "        'id_ascent', 'is_bouldering', 'id_grade', 'grade_fr', 'year_climbed', 'age', 'years_climbing']]"
   ]
  },
  {
   "cell_type": "code",
   "execution_count": null,
   "metadata": {},
   "outputs": [],
   "source": [
    "# Re-set all indexes\n",
    "df_all = df_all.reset_index(drop=True)\n",
    "df_bouldering_female = df_bouldering_female.reset_index(drop=True)\n",
    "df_bouldering_male = df_bouldering_male.reset_index(drop=True)\n",
    "df_rope_female = df_rope_female.reset_index(drop=True)\n",
    "df_rope_male = df_rope_male.reset_index(drop=True)"
   ]
  },
  {
   "cell_type": "code",
   "execution_count": null,
   "metadata": {},
   "outputs": [],
   "source": [
    "df_bouldering_female.head()"
   ]
  },
  {
   "cell_type": "code",
   "execution_count": null,
   "metadata": {},
   "outputs": [],
   "source": [
    "# Drop unnecessary columns\n",
    "# Note that this now loses tie-backs to original data\n",
    "df_all = df_all.drop(columns=['year_birth','year_started','id_ascent','grade_fr','year_climbed'])\n",
    "df_bouldering_female = df_bouldering_female.drop(columns=['is_female','year_birth','year_started',\n",
    "                                                          'id_ascent','is_bouldering','grade_fr','year_climbed'])\n",
    "df_bouldering_male = df_bouldering_male.drop(columns=['is_female','year_birth','year_started',\n",
    "                                                          'id_ascent','is_bouldering','grade_fr','year_climbed'])\n",
    "df_rope_female = df_rope_female.drop(columns=['is_female','year_birth','year_started',\n",
    "                                                          'id_ascent','is_bouldering','grade_fr','year_climbed'])\n",
    "df_rope_male = df_rope_male.drop(columns=['is_female','year_birth','year_started',\n",
    "                                                          'id_ascent','is_bouldering','grade_fr','year_climbed'])"
   ]
  },
  {
   "cell_type": "code",
   "execution_count": null,
   "metadata": {},
   "outputs": [],
   "source": [
    "# Checkpoint\n",
    "checkpoint_df_all_1 = df_all.copy()\n",
    "checkpoint_df_bouldering_female_1 = df_bouldering_female.copy()\n",
    "checkpoint_df_bouldering_male_1 = df_bouldering_male.copy()\n",
    "checkpoint_df_rope_female_1 = df_rope_female.copy()\n",
    "checkpoint_df_rope_male_1 = df_rope_male.copy()"
   ]
  },
  {
   "cell_type": "code",
   "execution_count": null,
   "metadata": {},
   "outputs": [],
   "source": [
    "# ===================================\n",
    "#\n",
    "# EDA\n",
    "#\n",
    "# ===================================\n",
    "df_all.head()"
   ]
  },
  {
   "cell_type": "code",
   "execution_count": null,
   "metadata": {},
   "outputs": [],
   "source": [
    "# -----------------------------------\n",
    "# PAIRPLOTS\n",
    "\n",
    "# ---- PAIRPLOT, NO TIME DATE ----\n",
    "sns.set(style=\"whitegrid\")\n",
    "g = sns.pairplot(df_all[['is_bouldering','is_female','height','weight','id_grade']], \n",
    "                 diag_kind='kde', dropna=True, plot_kws={'alpha':'0.1'})\n",
    "g.fig.suptitle(\"Pairplot, no time data\", size=20)\n",
    "plt.subplots_adjust(top=0.95)\n",
    "#g.set(xlabel = 'Years climbing', ylabel = 'Climbing grade')"
   ]
  },
  {
   "cell_type": "code",
   "execution_count": null,
   "metadata": {},
   "outputs": [],
   "source": [
    "# ---- PAIRPLOT, ALL DATA ----\n",
    "sns.set(style=\"whitegrid\")\n",
    "g = sns.pairplot(df_all[(df_all['age'] >= 10) & (df_all['age'] <= 80) &\n",
    "                        (df_all['years_climbing'] >= 0) & (df_all['years_climbing'] <= 70)]\\\n",
    "                 [['is_bouldering','is_female','height','weight','age','years_climbing','id_grade']], \n",
    "                 diag_kind='kde', dropna=True, plot_kws={'alpha':'0.1'})\n",
    "g.fig.suptitle(\"Pairplot, filtered time data\", size=20)\n",
    "plt.subplots_adjust(top=0.95)"
   ]
  },
  {
   "cell_type": "code",
   "execution_count": null,
   "metadata": {},
   "outputs": [],
   "source": [
    "# ===================================\n",
    "#\n",
    "# VISUALIZATIONS\n",
    "#\n",
    "# ==================================="
   ]
  },
  {
   "cell_type": "code",
   "execution_count": null,
   "metadata": {},
   "outputs": [],
   "source": [
    "# ===================================\n",
    "# MEAN GRADE VS HEIGHT\n",
    "sns.set(style='whitegrid')\n",
    "g = sns.lmplot(x='height', y='id_grade',\n",
    "              hue='is_female', palette=dict({0:'blue', 1:'red'}),\n",
    "               size=6, col='is_bouldering', legend=False, fit_reg=False,\n",
    "               scatter_kws={\n",
    "                       'alpha':'0.2',\n",
    "                       's':100*df_all.groupby(['height','id_grade']).count()['id_user']},\n",
    "               data=df_all.groupby(by=['is_female','height','is_bouldering'], as_index=False)\\\n",
    "                       .mean()[['is_female','is_bouldering','height','id_grade']])\n",
    "g.fig.suptitle('Mean Grade vs Height (cm)')\n",
    "g.set(xlabel='Height (cm)', ylabel='Climbing grade')\n",
    "plt.legend(bbox_to_anchor=(1.2, 1), markerscale=0.1, \n",
    "          title='Gender', labels=['Male','Female'])\n",
    "g.fig.tight_layout()\n",
    "plt.subplots_adjust(top=0.85)"
   ]
  },
  {
   "cell_type": "code",
   "execution_count": null,
   "metadata": {},
   "outputs": [],
   "source": [
    "sns.set(style='whitegrid')\n",
    "g = sns.lmplot(x='height', y='id_grade', \n",
    "               size=5, col='is_bouldering', row='is_female', legend=False, fit_reg=False,\n",
    "               hue='is_female', palette=dict({0:'blue', 1:'red'}), sharex=False, sharey=False, \n",
    "               scatter_kws={\n",
    "                       'alpha':'0.2',\n",
    "                       's':100*df_all.groupby(['height','id_grade']).count()['id_user']},\n",
    "               data=df_all.groupby(by=['is_female','height','is_bouldering'], as_index=False)\\\n",
    "                       .mean()[['is_female','is_bouldering','height','id_grade']])\n",
    "g.fig.suptitle('Grade vs Height (cm)')\n",
    "plt.subplots_adjust(top=0.90)\n",
    "g.set(xlabel='Height (cm)', ylabel='Climbing grade')\n",
    "g.fig.tight_layout()\n",
    "plt.subplots_adjust(top=0.90)"
   ]
  },
  {
   "cell_type": "code",
   "execution_count": null,
   "metadata": {},
   "outputs": [],
   "source": [
    "# ===================================\n",
    "# MEAN GRADE VS WEIGHT"
   ]
  },
  {
   "cell_type": "code",
   "execution_count": null,
   "metadata": {},
   "outputs": [],
   "source": [
    "# Plot mean grade vs weight\n",
    "sns.set(style='whitegrid')\n",
    "g = sns.lmplot(x='weight', y='id_grade',\n",
    "              hue='is_female', palette=dict({0:'blue', 1:'red'}),\n",
    "               size=6, col='is_bouldering', legend=False, fit_reg=False,\n",
    "               scatter_kws={\n",
    "                       'alpha':'0.2',\n",
    "                       's':50*df_all.groupby(['weight','id_grade']).count()['id_user']},\n",
    "               data=df_all.groupby(by=['is_female','weight','is_bouldering'], as_index=False)\\\n",
    "                       .mean()[['is_female','is_bouldering','weight','id_grade']])\n",
    "g.fig.suptitle('Grade vs Weight (kg)')\n",
    "g.set(xlabel='Weight (kg)', ylabel='Climbing grade')\n",
    "plt.legend(bbox_to_anchor=(1.2, 1), markerscale=0.05,\n",
    "          title='Gender', labels=['Male','Female'])\n",
    "g.fig.tight_layout()\n",
    "plt.subplots_adjust(top=0.85)"
   ]
  },
  {
   "cell_type": "code",
   "execution_count": null,
   "metadata": {},
   "outputs": [],
   "source": [
    "# Plot mean grade vs weight\n",
    "sns.set(style='whitegrid')\n",
    "g = sns.lmplot(x='weight', y='id_grade', hue='is_female', palette=dict({0:'blue', 1:'red'}),\n",
    "               size=5, col='is_bouldering', row='is_female', legend=False, fit_reg=False,\n",
    "               sharex=False, sharey=False,\n",
    "               scatter_kws={\n",
    "                       'alpha':'0.2',\n",
    "                       's':50*df_all.groupby(['weight','id_grade']).count()['id_user']},\n",
    "               data=df_all.groupby(by=['is_female','weight','is_bouldering'], as_index=False)\\\n",
    "                       .mean()[['is_female','is_bouldering','weight','id_grade']])\n",
    "g.fig.suptitle('Grade vs Weight (kg)')\n",
    "plt.subplots_adjust(top=0.90)\n",
    "g.set(xlabel='Weight (kg)', ylabel='Climbing grade')\n",
    "g.fig.tight_layout()\n",
    "plt.subplots_adjust(top=0.90)"
   ]
  },
  {
   "cell_type": "code",
   "execution_count": null,
   "metadata": {},
   "outputs": [],
   "source": [
    "# ===================================\n",
    "# MEAN GRADE VS YEARS CLIMBING"
   ]
  },
  {
   "cell_type": "code",
   "execution_count": null,
   "metadata": {},
   "outputs": [],
   "source": [
    "# Plot mean grade vs years climbing\n",
    "sns.set(style='whitegrid')\n",
    "g = sns.lmplot(x='years_climbing', y='id_grade',\n",
    "              hue='is_female', palette=dict({0:'blue', 1:'red'}),\n",
    "               size=6, col='is_bouldering', legend=False, fit_reg=False,\n",
    "               scatter_kws={\n",
    "                       'alpha':'0.2',\n",
    "                       's':5*df_all[(df_all['years_climbing'] >= 0) & (df_all['years_climbing'] <= 70)]\\\n",
    "                               .groupby(['years_climbing','id_grade']).count()['id_user']},\n",
    "               data=df_all[(df_all['years_climbing'] >= 0) & (df_all['years_climbing'] <= 70)]\\\n",
    "                       .groupby(by=['is_female','years_climbing','is_bouldering'], as_index=False)\\\n",
    "                       .mean()[['is_female','is_bouldering','years_climbing','id_grade']])\n",
    "g.fig.suptitle('Grade vs Years Climbing')\n",
    "g.set(xlabel='Years climbing', ylabel='Climbing grade')\n",
    "plt.legend(bbox_to_anchor=(1.2, 1), markerscale=0.3,\n",
    "          title='Gender', labels=['Male','Female'])\n",
    "g.fig.tight_layout()\n",
    "plt.subplots_adjust(top=0.85)"
   ]
  },
  {
   "cell_type": "code",
   "execution_count": null,
   "metadata": {},
   "outputs": [],
   "source": [
    "# Plot mean grade vs years climbing\n",
    "sns.set(style='whitegrid')\n",
    "g = sns.lmplot(x='years_climbing', y='id_grade', hue='is_female', palette=dict({0:'blue', 1:'red'}),\n",
    "               size=5, col='is_bouldering', row='is_female', legend=False, fit_reg=False,\n",
    "               sharex=False, sharey=False,\n",
    "               scatter_kws={\n",
    "                       'alpha':'0.2',\n",
    "                       's':5*df_all[(df_all['years_climbing'] >= 0) & (df_all['years_climbing'] <= 70)]\\\n",
    "                               .groupby(['years_climbing','id_grade']).count()['id_user']},\n",
    "               data=df_all[(df_all['years_climbing'] >= 0) & (df_all['years_climbing'] <= 70)]\\\n",
    "                       .groupby(by=['is_female','years_climbing','is_bouldering'], as_index=False)\\\n",
    "                       .mean()[['is_female','is_bouldering','years_climbing','id_grade']])\n",
    "g.fig.suptitle('Grade vs Years Climbing')\n",
    "plt.subplots_adjust(top=0.90)\n",
    "g.set(xlabel='Years climbing', ylabel='Climbing grade')\n",
    "g.fig.tight_layout()\n",
    "plt.subplots_adjust(top=0.90)"
   ]
  },
  {
   "cell_type": "code",
   "execution_count": null,
   "metadata": {},
   "outputs": [],
   "source": [
    "# ===================================\n",
    "# MEAN GRADE VS AGE"
   ]
  },
  {
   "cell_type": "code",
   "execution_count": null,
   "metadata": {},
   "outputs": [],
   "source": [
    "# Plot mean grade vs age\n",
    "sns.set(style='whitegrid')\n",
    "g = sns.lmplot(x='age', y='id_grade',\n",
    "              hue='is_female', palette=dict({0:'blue', 1:'red'}),\n",
    "               size=6, col='is_bouldering', legend=False, fit_reg=False,\n",
    "               scatter_kws={\n",
    "                       'alpha':'0.2',\n",
    "                       's':100*df_all[(df_all['age'] >= 10) & (df_all['age'] <= 80)]\\\n",
    "                               .groupby(['age','id_grade']).count()['id_user']},\n",
    "               data=df_all[(df_all['age'] >= 10) & (df_all['age'] <= 80)]\\\n",
    "                       .groupby(by=['is_female','age','is_bouldering'], as_index=False)\\\n",
    "                       .mean()[['is_female','is_bouldering','age','id_grade']])\n",
    "g.fig.suptitle('Grade vs Age')\n",
    "g.set(xlabel='Age', ylabel='Climbing grade')\n",
    "plt.legend(bbox_to_anchor=(1.2, 1), markerscale=0.1,\n",
    "          title='Gender', labels=['Male','Female'])\n",
    "g.fig.tight_layout()\n",
    "plt.subplots_adjust(top=0.85)"
   ]
  },
  {
   "cell_type": "code",
   "execution_count": null,
   "metadata": {},
   "outputs": [],
   "source": [
    "# Plot mean grade vs age\n",
    "sns.set(style='whitegrid')\n",
    "g = sns.lmplot(x='age', y='id_grade', hue='is_female', palette=dict({0:'blue', 1:'red'}),\n",
    "               size=5, col='is_bouldering', row='is_female', legend=False, fit_reg=False,\n",
    "               sharex=False, sharey=False,\n",
    "               scatter_kws={\n",
    "                       'alpha':'0.2',\n",
    "                       's':100*df_all[(df_all['age'] >= 10) & (df_all['age'] <= 80)]\\\n",
    "                               .groupby(['age','id_grade']).count()['id_user']},\n",
    "               data=df_all[(df_all['age'] >= 0) & (df_all['age'] <= 80)]\\\n",
    "                       .groupby(by=['is_female','age','is_bouldering'], as_index=False)\\\n",
    "                       .mean()[['is_female','is_bouldering','age','id_grade']])\n",
    "g.fig.suptitle('Grade vs Age')\n",
    "plt.subplots_adjust(top=0.90)\n",
    "g.set(xlabel='Age', ylabel='Climbing grade')\n",
    "g.fig.tight_layout()\n",
    "plt.subplots_adjust(top=0.90)"
   ]
  },
  {
   "cell_type": "code",
   "execution_count": null,
   "metadata": {
    "scrolled": true
   },
   "outputs": [],
   "source": [
    "# ===================================\n",
    "#\n",
    "# STATISTICAL ANALYSES\n",
    "#\n",
    "# ==================================="
   ]
  },
  {
   "cell_type": "code",
   "execution_count": null,
   "metadata": {},
   "outputs": [],
   "source": [
    "# -----------------------------------\n",
    "# UNIVARIATE ANALYSES"
   ]
  },
  {
   "cell_type": "code",
   "execution_count": null,
   "metadata": {
    "code_folding": []
   },
   "outputs": [],
   "source": [
    "# ---- GRADE ~ YEARS_CIMBING\n",
    "\n",
    "# Plots\n",
    "sns.set(style='whitegrid')\n",
    "g = sns.lmplot(x='years_climbing', y='id_grade', size=6, fit_reg=True, \n",
    "               scatter_kws={\n",
    "                       'alpha':'0.2',\n",
    "                       's':df_all[(df_all['years_climbing'] >= 0) & (df_all['years_climbing'] <= 70)]\\\n",
    "                               .groupby(['years_climbing','id_grade']).count()['age']},\n",
    "               data=df_all[(df_all['years_climbing'] >= 0) & (df_all['years_climbing'] <= 70)])\n",
    "g.fig.suptitle('Grade vs Years Climbing')\n",
    "g.set(xlabel='Years climbing', ylabel='Climbing grade')\n",
    "g.fig.tight_layout()\n",
    "plt.subplots_adjust(top=0.85)"
   ]
  },
  {
   "cell_type": "code",
   "execution_count": null,
   "metadata": {},
   "outputs": [],
   "source": [
    "sns.set(style='whitegrid')\n",
    "g = sns.lmplot(x='years_climbing', y='id_grade',\n",
    "              hue='is_female', palette=dict({0:'blue', 1:'red'}),\n",
    "               size=6, col='is_bouldering', legend=False, fit_reg=True, row='is_female',\n",
    "               scatter_kws={\n",
    "                       'alpha':'0.2',\n",
    "                       's':df_all[(df_all['years_climbing'] >= 0) & (df_all['years_climbing'] <= 70)]\\\n",
    "                               .groupby(['years_climbing','id_grade']).count()['age']},\n",
    "               data=df_all[(df_all['years_climbing'] >= 0) & (df_all['years_climbing'] <= 70)])\n",
    "g.fig.suptitle('Grade vs Years Climbing')\n",
    "g.set(xlabel='Years climbing', ylabel='Climbing grade')\n",
    "g.fig.tight_layout()\n",
    "plt.subplots_adjust(top=0.94)"
   ]
  },
  {
   "cell_type": "code",
   "execution_count": null,
   "metadata": {},
   "outputs": [],
   "source": [
    "# Linear regression\n",
    "lm_grade_vs_years_climbing_bouldering_female = \\\n",
    "        smf.ols('id_grade ~ years_climbing', \n",
    "                data=df_bouldering_female[(df_bouldering_female['years_climbing'] >= 0) &\n",
    "                                          (df_bouldering_female['years_climbing'] <= 70)])\\\n",
    "        .fit()\n",
    "\n",
    "print(lm_grade_vs_years_climbing_bouldering_female.summary())"
   ]
  },
  {
   "cell_type": "code",
   "execution_count": null,
   "metadata": {},
   "outputs": [],
   "source": [
    "# Results\n",
    "df_results_univariate = pd.DataFrame([{\n",
    "    'Variable': 'Years climbing (0-70)',\n",
    "    'Type': 'Bouldering',\n",
    "    'Gender': 'F',\n",
    "    'Coefficient': round(lm_grade_vs_years_climbing_bouldering_female.params[1],3),\n",
    "    'Std_error': round(lm_grade_vs_years_climbing_bouldering_female.bse[1],3),\n",
    "    'P_value': round(lm_grade_vs_years_climbing_bouldering_female.pvalues[1], 3)\n",
    "}])\n",
    "\n",
    "df_results_univariate = df_results_univariate[['Variable','Type','Gender','Coefficient','Std_error','P_value']]\n",
    "\n",
    "df_results_univariate"
   ]
  },
  {
   "cell_type": "code",
   "execution_count": null,
   "metadata": {},
   "outputs": [],
   "source": [
    "lm_grade_vs_years_climbing_bouldering_male = \\\n",
    "        smf.ols('id_grade ~ years_climbing', \n",
    "                data=df_bouldering_male[(df_bouldering_male['years_climbing'] >= 0) &\n",
    "                                          (df_bouldering_male['years_climbing'] <= 70)])\\\n",
    "        .fit()\n",
    "\n",
    "print(lm_grade_vs_years_climbing_bouldering_male.summary())"
   ]
  },
  {
   "cell_type": "code",
   "execution_count": null,
   "metadata": {},
   "outputs": [],
   "source": [
    "df_results_temp = pd.DataFrame([{\n",
    "        'Variable': 'Years climbing (0-70)',\n",
    "        'Type': 'Bouldering',\n",
    "        'Gender': 'M',\n",
    "        'Coefficient': round(lm_grade_vs_years_climbing_bouldering_male.params[1],3),\n",
    "        'Std_error': round(lm_grade_vs_years_climbing_bouldering_male.bse[1],3),\n",
    "        'P_value': round(lm_grade_vs_years_climbing_bouldering_male.pvalues[1], 3)\n",
    "}])\n",
    "\n",
    "df_results_temp = df_results_temp[['Variable','Type','Gender','Coefficient','Std_error','P_value']]\n",
    "\n",
    "df_results_univariate = pd.DataFrame.append(df_results_univariate, df_results_temp).reset_index(drop=True)\n",
    "\n",
    "df_results_univariate"
   ]
  },
  {
   "cell_type": "code",
   "execution_count": null,
   "metadata": {},
   "outputs": [],
   "source": [
    "lm_grade_vs_years_climbing_rope_female = \\\n",
    "        smf.ols('id_grade ~ years_climbing', \n",
    "                data=df_rope_female[(df_rope_female['years_climbing'] >= 0) &\n",
    "                                          (df_rope_female['years_climbing'] <= 70)])\\\n",
    "        .fit()\n",
    "\n",
    "print(lm_grade_vs_years_climbing_rope_female.summary())\n",
    "\n",
    "df_results_temp = pd.DataFrame([{\n",
    "        'Variable': 'Years climbing (0-70)',\n",
    "        'Type': 'Rope',\n",
    "        'Gender': 'F',\n",
    "        'Coefficient': round(lm_grade_vs_years_climbing_rope_female.params[1],3),\n",
    "        'Std_error': round(lm_grade_vs_years_climbing_rope_female.bse[1],3),\n",
    "        'P_value': round(lm_grade_vs_years_climbing_rope_female.pvalues[1], 3)\n",
    "}])\n",
    "\n",
    "df_results_temp = df_results_temp[['Variable','Type','Gender','Coefficient','Std_error','P_value']]\n",
    "\n",
    "df_results_univariate = pd.DataFrame.append(df_results_univariate, df_results_temp).reset_index(drop=True)\n",
    "\n",
    "df_results_univariate"
   ]
  },
  {
   "cell_type": "code",
   "execution_count": null,
   "metadata": {
    "scrolled": false
   },
   "outputs": [],
   "source": [
    "# Linear regression fit\n",
    "lm_grade_vs_years_climbing_rope_male = \\\n",
    "        smf.ols('id_grade ~ years_climbing', \n",
    "                data=df_rope_male[(df_rope_male['years_climbing'] >= 0) &\n",
    "                                          (df_rope_male['years_climbing'] <= 70)])\\\n",
    "        .fit()\n",
    "\n",
    "print(lm_grade_vs_years_climbing_rope_male.summary())\n",
    "\n",
    "# Update results dataframe\n",
    "df_results_temp = pd.DataFrame([{\n",
    "        'Variable': 'Years climbing (0-70)',\n",
    "        'Type': 'Rope',\n",
    "        'Gender': 'M',\n",
    "        'Coefficient': round(lm_grade_vs_years_climbing_rope_male.params[1],3),\n",
    "        'Std_error': round(lm_grade_vs_years_climbing_rope_male.bse[1],3),\n",
    "        'P_value': round(lm_grade_vs_years_climbing_rope_male.pvalues[1], 3)\n",
    "}])\n",
    "\n",
    "df_results_temp = df_results_temp[['Variable','Type','Gender','Coefficient','Std_error','P_value']]\n",
    "\n",
    "df_results_univariate = pd.DataFrame.append(df_results_univariate, df_results_temp).reset_index(drop=True)\n",
    "\n",
    "print('\\n')\n",
    "print(df_results_univariate)"
   ]
  },
  {
   "cell_type": "code",
   "execution_count": null,
   "metadata": {},
   "outputs": [],
   "source": [
    "# Plot residuals\n",
    "fig, ax = plt.subplots(2, 2, figsize=(16,10))\n",
    "\n",
    "ax[0,0].scatter(x=df_bouldering_female[\\\n",
    "                    (df_bouldering_female['years_climbing'] >= 0) & \\\n",
    "                    (df_bouldering_female['years_climbing'] <=70)]['years_climbing'], \n",
    "            y=lm_grade_vs_years_climbing_bouldering_female.resid, alpha=0.25)\n",
    "ax[0,0].hlines(y=0, xmin=0, xmax=70, colors='red', linestyles='dashed')\n",
    "ax[0,0].set_title('Residuals vs Years Climbing (Bouldering, Female)')\n",
    "ax[0,0].set_ylabel('Residuals (grade)')\n",
    "\n",
    "ax[0,1].scatter(x=df_bouldering_male[\\\n",
    "                    (df_bouldering_male['years_climbing'] >= 0) & \\\n",
    "                    (df_bouldering_male['years_climbing'] <=70)]['years_climbing'], \n",
    "            y=lm_grade_vs_years_climbing_bouldering_male.resid, alpha=0.25)\n",
    "ax[0,1].hlines(y=0, xmin=0, xmax=70, colors='red', linestyles='dashed')\n",
    "ax[0,1].set_title('Residuals vs Years Climbing (Bouldering, Male)')\n",
    "\n",
    "ax[1,0].scatter(x=df_rope_female[\\\n",
    "                    (df_rope_female['years_climbing'] >= 0) & \\\n",
    "                    (df_rope_female['years_climbing'] <=70)]['years_climbing'], \n",
    "            y=lm_grade_vs_years_climbing_rope_female.resid, alpha=0.25)\n",
    "ax[1,0].hlines(y=0, xmin=0, xmax=70, colors='red', linestyles='dashed')\n",
    "ax[1,0].set_title('Residuals vs Years Climbing (Rope, Female)')\n",
    "ax[1,0].set_xlabel('Years climbing')\n",
    "ax[1,0].set_ylabel('Residuals (grade)')\n",
    "\n",
    "ax[1,1].scatter(x=df_rope_male[\\\n",
    "                    (df_rope_male['years_climbing'] >= 0) & \\\n",
    "                    (df_rope_male['years_climbing'] <=70)]['years_climbing'], \n",
    "            y=lm_grade_vs_years_climbing_rope_male.resid, alpha=0.25)\n",
    "ax[1,1].hlines(y=0, xmin=0, xmax=70, colors='red', linestyles='dashed')\n",
    "ax[1,1].set_title('Residuals vs Years Climbing (Rope, Male)')\n",
    "ax[1,1].set_xlabel('Years climbing')\n",
    "\n",
    "plt.show()"
   ]
  },
  {
   "cell_type": "code",
   "execution_count": null,
   "metadata": {},
   "outputs": [],
   "source": [
    "# Plot grade vs age\n",
    "sns.set(style='whitegrid')\n",
    "g = sns.lmplot(x='age', y='id_grade', size=6, fit_reg=True,\n",
    "               scatter_kws={\n",
    "                       'alpha':'0.2',\n",
    "                       's':df_all[(df_all['age'] >= 10) & (df_all['age'] <= 80)]\\\n",
    "                               .groupby(['age','id_grade']).count()['id_user']},\n",
    "               data=df_all[(df_all['age'] >= 10) & (df_all['age'] <= 80)])\n",
    "g.fig.suptitle('Grade vs Age')\n",
    "g.set(xlabel='Age', ylabel='Climbing grade')\n",
    "g.fig.tight_layout()\n",
    "plt.subplots_adjust(top=0.85)"
   ]
  },
  {
   "cell_type": "code",
   "execution_count": null,
   "metadata": {},
   "outputs": [],
   "source": [
    "sns.set(style='whitegrid')\n",
    "g = sns.lmplot(x='age', y='id_grade',\n",
    "              hue='is_female', palette=dict({0:'blue', 1:'red'}),\n",
    "               size=6, col='is_bouldering', row='is_female', legend=False, fit_reg=True,\n",
    "               scatter_kws={\n",
    "                       'alpha':'0.2',\n",
    "                       's':df_all[(df_all['age'] >= 10) & (df_all['age'] <= 80)]\\\n",
    "                               .groupby(['age','id_grade']).count()['id_user']},\n",
    "               data=df_all[(df_all['age'] >= 10) & (df_all['age'] <= 80)])\n",
    "g.fig.suptitle('Grade vs Age')\n",
    "g.set(xlabel='Age', ylabel='Climbing grade')\n",
    "g.fig.tight_layout()\n",
    "plt.subplots_adjust(top=0.94)"
   ]
  },
  {
   "cell_type": "code",
   "execution_count": null,
   "metadata": {
    "scrolled": false
   },
   "outputs": [],
   "source": [
    "# Linear regression fit\n",
    "lm_grade_vs_age_bouldering_female = \\\n",
    "        smf.ols('id_grade ~ age', \n",
    "                data=df_bouldering_female[(df_bouldering_female['age'] >= 10) &\n",
    "                                          (df_bouldering_female['age'] <= 80)])\\\n",
    "        .fit()\n",
    "\n",
    "print(lm_grade_vs_age_bouldering_female.summary())\n",
    "\n",
    "# Update results dataframe\n",
    "df_results_temp = pd.DataFrame([{\n",
    "        'Variable': 'Age (10-80)',\n",
    "        'Type': 'Bouldering',\n",
    "        'Gender': 'F',\n",
    "        'Coefficient': round(lm_grade_vs_age_bouldering_female.params[1],3),\n",
    "        'Std_error': round(lm_grade_vs_age_bouldering_female.bse[1],3),\n",
    "        'P_value': round(lm_grade_vs_age_bouldering_female.pvalues[1], 3)\n",
    "}])\n",
    "\n",
    "df_results_temp = df_results_temp[['Variable','Type','Gender','Coefficient','Std_error','P_value']]\n",
    "\n",
    "df_results_univariate = pd.DataFrame.append(df_results_univariate, df_results_temp).reset_index(drop=True)\n",
    "\n",
    "print('\\n')\n",
    "print(df_results_univariate)"
   ]
  },
  {
   "cell_type": "code",
   "execution_count": null,
   "metadata": {},
   "outputs": [],
   "source": [
    "# Linear regression fit\n",
    "lm_grade_vs_age_bouldering_male = \\\n",
    "        smf.ols('id_grade ~ age', \n",
    "                data=df_bouldering_male[(df_bouldering_male['age'] >= 10) &\n",
    "                                          (df_bouldering_male['age'] <= 80)])\\\n",
    "        .fit()\n",
    "\n",
    "print(lm_grade_vs_age_bouldering_male.summary())\n",
    "\n",
    "# Update results dataframe\n",
    "df_results_temp = pd.DataFrame([{\n",
    "        'Variable': 'Age (10-80)',\n",
    "        'Type': 'Bouldering',\n",
    "        'Gender': 'M',\n",
    "        'Coefficient': round(lm_grade_vs_age_bouldering_male.params[1],3),\n",
    "        'Std_error': round(lm_grade_vs_age_bouldering_male.bse[1],3),\n",
    "        'P_value': round(lm_grade_vs_age_bouldering_male.pvalues[1], 3)\n",
    "}])\n",
    "\n",
    "df_results_temp = df_results_temp[['Variable','Type','Gender','Coefficient','Std_error','P_value']]\n",
    "\n",
    "df_results_univariate = pd.DataFrame.append(df_results_univariate, df_results_temp).reset_index(drop=True)\n",
    "\n",
    "print('\\n')\n",
    "print(df_results_univariate)"
   ]
  },
  {
   "cell_type": "code",
   "execution_count": null,
   "metadata": {},
   "outputs": [],
   "source": [
    "# Linear regression fit\n",
    "lm_grade_vs_age_rope_female = \\\n",
    "        smf.ols('id_grade ~ age', \n",
    "                data=df_rope_female[(df_rope_female['age'] >= 10) &\n",
    "                                          (df_rope_female['age'] <= 80)])\\\n",
    "        .fit()\n",
    "\n",
    "print(lm_grade_vs_age_rope_female.summary())\n",
    "\n",
    "# Update results dataframe\n",
    "df_results_temp = pd.DataFrame([{\n",
    "        'Variable': 'Age (10-80)',\n",
    "        'Type': 'Rope',\n",
    "        'Gender': 'F',\n",
    "        'Coefficient': round(lm_grade_vs_age_rope_female.params[1],3),\n",
    "        'Std_error': round(lm_grade_vs_age_rope_female.bse[1],3),\n",
    "        'P_value': round(lm_grade_vs_age_rope_female.pvalues[1], 3)\n",
    "}])\n",
    "\n",
    "df_results_temp = df_results_temp[['Variable','Type','Gender','Coefficient','Std_error','P_value']]\n",
    "\n",
    "df_results_univariate = pd.DataFrame.append(df_results_univariate, df_results_temp).reset_index(drop=True)\n",
    "\n",
    "print('\\n')\n",
    "print(df_results_univariate)"
   ]
  },
  {
   "cell_type": "code",
   "execution_count": null,
   "metadata": {},
   "outputs": [],
   "source": [
    "# Linear regression fit\n",
    "lm_grade_vs_age_rope_male = \\\n",
    "        smf.ols('id_grade ~ age', \n",
    "                data=df_rope_male[(df_rope_male['age'] >= 10) &\n",
    "                                          (df_rope_male['age'] <= 80)])\\\n",
    "        .fit()\n",
    "\n",
    "print(lm_grade_vs_age_rope_male.summary())\n",
    "\n",
    "# Update results dataframe\n",
    "df_results_temp = pd.DataFrame([{\n",
    "        'Variable': 'Age (10-80)',\n",
    "        'Type': 'Rope',\n",
    "        'Gender': 'M',\n",
    "        'Coefficient': round(lm_grade_vs_age_rope_male.params[1],3),\n",
    "        'Std_error': round(lm_grade_vs_age_rope_male.bse[1],3),\n",
    "        'P_value': round(lm_grade_vs_age_rope_male.pvalues[1], 3)\n",
    "}])\n",
    "\n",
    "df_results_temp = df_results_temp[['Variable','Type','Gender','Coefficient','Std_error','P_value']]\n",
    "\n",
    "df_results_univariate = pd.DataFrame.append(df_results_univariate, df_results_temp).reset_index(drop=True)\n",
    "\n",
    "print('\\n')\n",
    "print(df_results_univariate)"
   ]
  },
  {
   "cell_type": "code",
   "execution_count": null,
   "metadata": {},
   "outputs": [],
   "source": [
    "# Plot residuals\n",
    "fig, ax = plt.subplots(2, 2, figsize=(16,10))\n",
    "\n",
    "ax[0,0].scatter(x=df_bouldering_female[\\\n",
    "                    (df_bouldering_female['age'] >= 10) & \\\n",
    "                    (df_bouldering_female['age'] <= 80)]['age'], \n",
    "            y=lm_grade_vs_age_bouldering_female.resid, alpha=0.1)\n",
    "ax[0,0].hlines(y=0, xmin=10, xmax=80, colors='red', linestyles='dashed')\n",
    "ax[0,0].set_title('Residuals vs Age (Bouldering, Female)')\n",
    "ax[0,0].set_ylabel('Residuals (grade)')\n",
    "\n",
    "ax[0,1].scatter(x=df_bouldering_male[\\\n",
    "                    (df_bouldering_male['age'] >= 10) & \\\n",
    "                    (df_bouldering_male['age'] <= 80)]['age'], \n",
    "            y=lm_grade_vs_age_bouldering_male.resid, alpha=0.1)\n",
    "ax[0,1].hlines(y=0, xmin=10, xmax=80, colors='red', linestyles='dashed')\n",
    "ax[0,1].set_title('Residuals vs Age (Bouldering, Male)')\n",
    "\n",
    "ax[1,0].scatter(x=df_rope_female[\\\n",
    "                    (df_rope_female['age'] >= 10) & \\\n",
    "                    (df_rope_female['age'] <= 80)]['age'], \n",
    "            y=lm_grade_vs_age_rope_female.resid, alpha=0.1)\n",
    "ax[1,0].hlines(y=0, xmin=0, xmax=70, colors='red', linestyles='dashed')\n",
    "ax[1,0].set_title('Residuals vs Age (Rope, Female)')\n",
    "ax[1,0].set_xlabel('Age')\n",
    "ax[1,0].set_ylabel('Residuals (grade)')\n",
    "\n",
    "ax[1,1].scatter(x=df_rope_male[\\\n",
    "                    (df_rope_male['age'] >= 10) & \\\n",
    "                    (df_rope_male['age'] <= 80)]['age'], \n",
    "            y=lm_grade_vs_age_rope_male.resid, alpha=0.1)\n",
    "ax[1,1].hlines(y=0, xmin=0, xmax=70, colors='red', linestyles='dashed')\n",
    "ax[1,1].set_title('Residuals vs Age (Rope, Male)')\n",
    "ax[1,1].set_xlabel('Age')\n",
    "\n",
    "plt.show()"
   ]
  },
  {
   "cell_type": "code",
   "execution_count": null,
   "metadata": {},
   "outputs": [],
   "source": [
    "# Plot grade vs height\n",
    "sns.set(style='whitegrid')\n",
    "g = sns.lmplot(x='height', y='id_grade', size=6, fit_reg=True, \n",
    "               scatter_kws={\n",
    "                       'alpha':'0.2',\n",
    "                       's':df_all.groupby(['height','id_grade']).count()['id_user']},\n",
    "               data=df_all)\n",
    "g.fig.suptitle('Grade vs Height (cm)')\n",
    "g.set(xlabel='Height (cm)', ylabel='Climbing grade')\n",
    "g.fig.tight_layout()\n",
    "plt.subplots_adjust(top=0.85)"
   ]
  },
  {
   "cell_type": "code",
   "execution_count": null,
   "metadata": {},
   "outputs": [],
   "source": [
    "sns.set(style='whitegrid')\n",
    "g = sns.lmplot(x='height', y='id_grade', hue='is_female', palette=dict({0:'blue', 1:'red'}),\n",
    "               size=6, col='is_bouldering', row='is_female', legend=False, fit_reg=True,\n",
    "               scatter_kws={\n",
    "                       'alpha':'0.2',\n",
    "                       's':df_all.groupby(['height','id_grade']).count()['id_user']},\n",
    "               data=df_all)\n",
    "g.fig.suptitle('Grade vs Height (cm)')\n",
    "g.set(xlabel='Height (cm)', ylabel='Climbing grade')\n",
    "g.fig.tight_layout()\n",
    "plt.subplots_adjust(top=0.94)"
   ]
  },
  {
   "cell_type": "code",
   "execution_count": null,
   "metadata": {},
   "outputs": [],
   "source": [
    "# Linear regression fit\n",
    "lm_grade_vs_height_bouldering_female = \\\n",
    "        smf.ols('id_grade ~ height', \n",
    "                data=df_bouldering_female).fit()\n",
    "\n",
    "print(lm_grade_vs_height_bouldering_female.summary())\n",
    "\n",
    "# Update results dataframe\n",
    "df_results_temp = pd.DataFrame([{\n",
    "        'Variable': 'Height (cm)',\n",
    "        'Type': 'Bouldering',\n",
    "        'Gender': 'F',\n",
    "        'Coefficient': round(lm_grade_vs_height_bouldering_female.params[1],3),\n",
    "        'Std_error': round(lm_grade_vs_height_bouldering_female.bse[1],3),\n",
    "        'P_value': round(lm_grade_vs_height_bouldering_female.pvalues[1], 3)\n",
    "}])\n",
    "\n",
    "df_results_temp = df_results_temp[['Variable','Type','Gender','Coefficient','Std_error','P_value']]\n",
    "\n",
    "df_results_univariate = pd.DataFrame.append(df_results_univariate, df_results_temp).reset_index(drop=True)\n",
    "\n",
    "print('\\n')\n",
    "print(df_results_univariate)"
   ]
  },
  {
   "cell_type": "code",
   "execution_count": null,
   "metadata": {},
   "outputs": [],
   "source": [
    "# Linear regression fit\n",
    "lm_grade_vs_height_bouldering_male = \\\n",
    "        smf.ols('id_grade ~ height', \n",
    "                data=df_bouldering_male).fit()\n",
    "\n",
    "print(lm_grade_vs_height_bouldering_male.summary())\n",
    "\n",
    "# Update results dataframe\n",
    "df_results_temp = pd.DataFrame([{\n",
    "        'Variable': 'Height (cm)',\n",
    "        'Type': 'Bouldering',\n",
    "        'Gender': 'M',\n",
    "        'Coefficient': round(lm_grade_vs_height_bouldering_male.params[1],3),\n",
    "        'Std_error': round(lm_grade_vs_height_bouldering_male.bse[1],3),\n",
    "        'P_value': round(lm_grade_vs_height_bouldering_male.pvalues[1], 3)\n",
    "}])\n",
    "\n",
    "df_results_temp = df_results_temp[['Variable','Type','Gender','Coefficient','Std_error','P_value']]\n",
    "\n",
    "df_results_univariate = pd.DataFrame.append(df_results_univariate, df_results_temp).reset_index(drop=True)\n",
    "\n",
    "print('\\n')\n",
    "print(df_results_univariate)"
   ]
  },
  {
   "cell_type": "code",
   "execution_count": null,
   "metadata": {},
   "outputs": [],
   "source": [
    "# Linear regression fit\n",
    "lm_grade_vs_height_rope_female = \\\n",
    "        smf.ols('id_grade ~ height', \n",
    "                data=df_rope_female).fit()\n",
    "\n",
    "print(lm_grade_vs_height_rope_female.summary())\n",
    "\n",
    "# Update results dataframe\n",
    "df_results_temp = pd.DataFrame([{\n",
    "        'Variable': 'Height (cm)',\n",
    "        'Type': 'Rope',\n",
    "        'Gender': 'F',\n",
    "        'Coefficient': round(lm_grade_vs_height_rope_female.params[1],3),\n",
    "        'Std_error': round(lm_grade_vs_height_rope_female.bse[1],3),\n",
    "        'P_value': round(lm_grade_vs_height_rope_female.pvalues[1], 3)\n",
    "}])\n",
    "\n",
    "df_results_temp = df_results_temp[['Variable','Type','Gender','Coefficient','Std_error','P_value']]\n",
    "\n",
    "df_results_univariate = pd.DataFrame.append(df_results_univariate, df_results_temp).reset_index(drop=True)\n",
    "\n",
    "print('\\n')\n",
    "print(df_results_univariate)"
   ]
  },
  {
   "cell_type": "code",
   "execution_count": null,
   "metadata": {},
   "outputs": [],
   "source": [
    "# Linear regression fit\n",
    "lm_grade_vs_height_rope_male = \\\n",
    "        smf.ols('id_grade ~ height', \n",
    "                data=df_rope_male).fit()\n",
    "\n",
    "print(lm_grade_vs_height_rope_male.summary())\n",
    "\n",
    "# Update results dataframe\n",
    "df_results_temp = pd.DataFrame([{\n",
    "        'Variable': 'Height (cm)',\n",
    "        'Type': 'Rope',\n",
    "        'Gender': 'M',\n",
    "        'Coefficient': round(lm_grade_vs_height_rope_male.params[1],3),\n",
    "        'Std_error': round(lm_grade_vs_height_rope_male.bse[1],3),\n",
    "        'P_value': round(lm_grade_vs_height_rope_male.pvalues[1], 3)\n",
    "}])\n",
    "\n",
    "df_results_temp = df_results_temp[['Variable','Type','Gender','Coefficient','Std_error','P_value']]\n",
    "\n",
    "df_results_univariate = pd.DataFrame.append(df_results_univariate, df_results_temp).reset_index(drop=True)\n",
    "\n",
    "print('\\n')\n",
    "print(df_results_univariate)"
   ]
  },
  {
   "cell_type": "code",
   "execution_count": null,
   "metadata": {},
   "outputs": [],
   "source": [
    "# Plot residuals\n",
    "fig, ax = plt.subplots(2, 2, figsize=(16,10))\n",
    "\n",
    "ax[0,0].scatter(x=df_bouldering_female['height'], \n",
    "            y=lm_grade_vs_height_bouldering_female.resid, alpha=0.1)\n",
    "ax[0,0].hlines(y=0, xmin=120, xmax=240, colors='red', linestyles='dashed')\n",
    "ax[0,0].set_title('Residuals vs Height (Bouldering, Female)')\n",
    "ax[0,0].set_ylabel('Residuals (grade)')\n",
    "\n",
    "ax[0,1].scatter(x=df_bouldering_male['height'], \n",
    "            y=lm_grade_vs_height_bouldering_male.resid, alpha=0.1)\n",
    "ax[0,1].hlines(y=0, xmin=120, xmax=240, colors='red', linestyles='dashed')\n",
    "ax[0,1].set_title('Residuals vs Height (Bouldering, Male)')\n",
    "\n",
    "ax[1,0].scatter(x=df_rope_female['height'], \n",
    "            y=lm_grade_vs_height_rope_female.resid, alpha=0.1)\n",
    "ax[1,0].hlines(y=0, xmin=120, xmax=240, colors='red', linestyles='dashed')\n",
    "ax[1,0].set_title('Residuals vs Height (Rope, Female)')\n",
    "ax[1,0].set_xlabel('Height (cm)')\n",
    "ax[1,0].set_ylabel('Residuals (grade)')\n",
    "\n",
    "ax[1,1].scatter(x=df_rope_male['height'], \n",
    "            y=lm_grade_vs_height_rope_male.resid, alpha=0.1)\n",
    "ax[1,1].hlines(y=0, xmin=120, xmax=240, colors='red', linestyles='dashed')\n",
    "ax[1,1].set_title('Residuals vs Height (Rope, Male)')\n",
    "ax[1,1].set_xlabel('Height (cm)')\n",
    "\n",
    "plt.show()"
   ]
  },
  {
   "cell_type": "code",
   "execution_count": null,
   "metadata": {},
   "outputs": [],
   "source": [
    "# Plot grade vs weight\n",
    "sns.set(style='whitegrid')\n",
    "g = sns.lmplot(x='weight', y='id_grade', size=6, fit_reg=True,\n",
    "               scatter_kws={\n",
    "                       'alpha':'0.2',\n",
    "                       's':df_all.groupby(['weight','id_grade']).count()['id_user']},\n",
    "               data=df_all)\n",
    "g.fig.suptitle('Grade vs Weight (kg)')\n",
    "g.set(xlabel='Weight (kg)', ylabel='Climbing grade')\n",
    "g.fig.tight_layout()\n",
    "plt.subplots_adjust(top=0.85)"
   ]
  },
  {
   "cell_type": "code",
   "execution_count": null,
   "metadata": {},
   "outputs": [],
   "source": [
    "sns.set(style='whitegrid')\n",
    "g = sns.lmplot(x='weight', y='id_grade', hue='is_female', palette=dict({0:'blue', 1:'red'}),\n",
    "               size=6, col='is_bouldering', row='is_female', legend=False, fit_reg=True,\n",
    "               scatter_kws={\n",
    "                       'alpha':'0.2',\n",
    "                       's':df_all.groupby(['weight','id_grade']).count()['id_user']},\n",
    "               data=df_all)\n",
    "g.fig.suptitle('Grade vs Weight (kg)')\n",
    "g.set(xlabel='Weight (kg)', ylabel='Climbing grade')\n",
    "g.fig.tight_layout()\n",
    "plt.subplots_adjust(top=0.94)"
   ]
  },
  {
   "cell_type": "code",
   "execution_count": null,
   "metadata": {},
   "outputs": [],
   "source": [
    "# Linear regression fit\n",
    "lm_grade_vs_weight_bouldering_female = \\\n",
    "        smf.ols('id_grade ~ weight', \n",
    "                data=df_bouldering_female).fit()\n",
    "\n",
    "print(lm_grade_vs_weight_bouldering_female.summary())\n",
    "\n",
    "# Update results dataframe\n",
    "df_results_temp = pd.DataFrame([{\n",
    "        'Variable': 'Weight (kg)',\n",
    "        'Type': 'Bouldering',\n",
    "        'Gender': 'F',\n",
    "        'Coefficient': round(lm_grade_vs_weight_bouldering_female.params[1],3),\n",
    "        'Std_error': round(lm_grade_vs_weight_bouldering_female.bse[1],3),\n",
    "        'P_value': round(lm_grade_vs_weight_bouldering_female.pvalues[1], 3)\n",
    "}])\n",
    "\n",
    "df_results_temp = df_results_temp[['Variable','Type','Gender','Coefficient','Std_error','P_value']]\n",
    "\n",
    "df_results_univariate = pd.DataFrame.append(df_results_univariate, df_results_temp).reset_index(drop=True)\n",
    "\n",
    "print('\\n')\n",
    "print(df_results_univariate)"
   ]
  },
  {
   "cell_type": "code",
   "execution_count": null,
   "metadata": {},
   "outputs": [],
   "source": [
    "# Linear regression fit\n",
    "lm_grade_vs_weight_bouldering_male = \\\n",
    "        smf.ols('id_grade ~ weight', \n",
    "                data=df_bouldering_male).fit()\n",
    "\n",
    "print(lm_grade_vs_weight_bouldering_male.summary())\n",
    "\n",
    "# Update results dataframe\n",
    "df_results_temp = pd.DataFrame([{\n",
    "        'Variable': 'Weight (kg)',\n",
    "        'Type': 'Bouldering',\n",
    "        'Gender': 'M',\n",
    "        'Coefficient': round(lm_grade_vs_weight_bouldering_male.params[1],3),\n",
    "        'Std_error': round(lm_grade_vs_weight_bouldering_male.bse[1],3),\n",
    "        'P_value': round(lm_grade_vs_weight_bouldering_male.pvalues[1], 3)\n",
    "}])\n",
    "\n",
    "df_results_temp = df_results_temp[['Variable','Type','Gender','Coefficient','Std_error','P_value']]\n",
    "\n",
    "df_results_univariate = pd.DataFrame.append(df_results_univariate, df_results_temp).reset_index(drop=True)\n",
    "\n",
    "print('\\n')\n",
    "print(df_results_univariate)"
   ]
  },
  {
   "cell_type": "code",
   "execution_count": null,
   "metadata": {},
   "outputs": [],
   "source": [
    "# Linear regression fit\n",
    "lm_grade_vs_weight_rope_female = \\\n",
    "        smf.ols('id_grade ~ weight', \n",
    "                data=df_rope_female).fit()\n",
    "\n",
    "print(lm_grade_vs_weight_rope_female.summary())\n",
    "\n",
    "# Update results dataframe\n",
    "df_results_temp = pd.DataFrame([{\n",
    "        'Variable': 'Weight (kg)',\n",
    "        'Type': 'Rope',\n",
    "        'Gender': 'F',\n",
    "        'Coefficient': round(lm_grade_vs_weight_rope_female.params[1],3),\n",
    "        'Std_error': round(lm_grade_vs_weight_rope_female.bse[1],3),\n",
    "        'P_value': round(lm_grade_vs_weight_rope_female.pvalues[1], 3)\n",
    "}])\n",
    "\n",
    "df_results_temp = df_results_temp[['Variable','Type','Gender','Coefficient','Std_error','P_value']]\n",
    "\n",
    "df_results_univariate = pd.DataFrame.append(df_results_univariate, df_results_temp).reset_index(drop=True)\n",
    "\n",
    "print('\\n')\n",
    "print(df_results_univariate)"
   ]
  },
  {
   "cell_type": "code",
   "execution_count": null,
   "metadata": {},
   "outputs": [],
   "source": [
    "# Linear regression fit\n",
    "lm_grade_vs_weight_rope_male = \\\n",
    "        smf.ols('id_grade ~ weight', \n",
    "                data=df_rope_male).fit()\n",
    "\n",
    "print(lm_grade_vs_weight_rope_male.summary())\n",
    "\n",
    "# Update results dataframe\n",
    "df_results_temp = pd.DataFrame([{\n",
    "        'Variable': 'Weight (kg)',\n",
    "        'Type': 'Rope',\n",
    "        'Gender': 'M',\n",
    "        'Coefficient': round(lm_grade_vs_weight_rope_male.params[1],3),\n",
    "        'Std_error': round(lm_grade_vs_weight_rope_male.bse[1],3),\n",
    "        'P_value': round(lm_grade_vs_weight_rope_male.pvalues[1], 3)\n",
    "}])\n",
    "\n",
    "df_results_temp = df_results_temp[['Variable','Type','Gender','Coefficient','Std_error','P_value']]\n",
    "\n",
    "df_results_univariate = pd.DataFrame.append(df_results_univariate, df_results_temp).reset_index(drop=True)\n",
    "\n",
    "print('\\n')\n",
    "print(df_results_univariate)"
   ]
  },
  {
   "cell_type": "code",
   "execution_count": null,
   "metadata": {},
   "outputs": [],
   "source": [
    "# Plot residuals\n",
    "fig, ax = plt.subplots(2, 2, figsize=(16,10))\n",
    "\n",
    "ax[0,0].scatter(x=df_bouldering_female['weight'], \n",
    "            y=lm_grade_vs_weight_bouldering_female.resid, alpha=0.1)\n",
    "ax[0,0].hlines(y=0, xmin=40, xmax=100, colors='red', linestyles='dashed')\n",
    "ax[0,0].set_title('Residuals vs Weight (Bouldering, Female)')\n",
    "ax[0,0].set_ylabel('Residuals (grade)')\n",
    "\n",
    "ax[0,1].scatter(x=df_bouldering_male['weight'], \n",
    "            y=lm_grade_vs_weight_bouldering_male.resid, alpha=0.1)\n",
    "ax[0,1].hlines(y=0, xmin=40, xmax=100, colors='red', linestyles='dashed')\n",
    "ax[0,1].set_title('Residuals vs Weight (Bouldering, Male)')\n",
    "\n",
    "ax[1,0].scatter(x=df_rope_female['weight'], \n",
    "            y=lm_grade_vs_weight_rope_female.resid, alpha=0.1)\n",
    "ax[1,0].hlines(y=0, xmin=40, xmax=100, colors='red', linestyles='dashed')\n",
    "ax[1,0].set_title('Residuals vs Weight (Rope, Female)')\n",
    "ax[1,0].set_xlabel('Weight (kg)')\n",
    "ax[1,0].set_ylabel('Residuals (grade)')\n",
    "\n",
    "ax[1,1].scatter(x=df_rope_male['weight'], \n",
    "            y=lm_grade_vs_weight_rope_male.resid, alpha=0.1)\n",
    "ax[1,1].hlines(y=0, xmin=40, xmax=100, colors='red', linestyles='dashed')\n",
    "ax[1,1].set_title('Residuals vs Weight (Rope, Male)')\n",
    "ax[1,1].set_xlabel('Weight (kg)')\n",
    "\n",
    "plt.show()"
   ]
  },
  {
   "cell_type": "code",
   "execution_count": null,
   "metadata": {},
   "outputs": [],
   "source": [
    "# Plot grade vs gender\n",
    "sns.set(style='whitegrid')\n",
    "g = sns.lmplot(x='is_female', y='id_grade', size=6, fit_reg=True,\n",
    "               scatter_kws={\n",
    "                       'alpha':'0.1',\n",
    "                       's':0.1*df_all.groupby(['is_female','id_grade']).count()['id_user']},\n",
    "               data=df_all)\n",
    "g.fig.suptitle('Grade vs Gender')\n",
    "g.set(xlabel='Gender (0=male, 1=female)', ylabel='Climbing grade')\n",
    "g.fig.tight_layout()\n",
    "plt.subplots_adjust(top=0.85)"
   ]
  },
  {
   "cell_type": "code",
   "execution_count": null,
   "metadata": {},
   "outputs": [],
   "source": [
    "# Linear regression fit\n",
    "lm_grade_vs_gender_bouldering = \\\n",
    "        smf.ols('id_grade ~ is_female', \n",
    "                data=df_all[df_all['is_bouldering']==1]).fit()\n",
    "\n",
    "print(lm_grade_vs_gender_bouldering.summary())\n",
    "\n",
    "# Update results dataframe\n",
    "df_results_temp = pd.DataFrame([{\n",
    "        'Variable': 'Gender',\n",
    "        'Type': 'Bouldering',\n",
    "        'Gender': '-',\n",
    "        'Coefficient': round(lm_grade_vs_gender_bouldering.params[1],3),\n",
    "        'Std_error': round(lm_grade_vs_gender_bouldering.bse[1],3),\n",
    "        'P_value': round(lm_grade_vs_gender_bouldering.pvalues[1], 3)\n",
    "}])\n",
    "\n",
    "df_results_temp = df_results_temp[['Variable','Type','Gender','Coefficient','Std_error','P_value']]\n",
    "\n",
    "df_results_univariate = pd.DataFrame.append(df_results_univariate, df_results_temp).reset_index(drop=True)\n",
    "\n",
    "print('\\n')\n",
    "print(df_results_univariate)"
   ]
  },
  {
   "cell_type": "code",
   "execution_count": null,
   "metadata": {},
   "outputs": [],
   "source": [
    "# Linear regression fit\n",
    "lm_grade_vs_gender_rope = \\\n",
    "        smf.ols('id_grade ~ is_female', \n",
    "                data=df_all[df_all['is_bouldering']==0]).fit()\n",
    "\n",
    "print(lm_grade_vs_gender_rope.summary())\n",
    "\n",
    "# Update results dataframe\n",
    "df_results_temp = pd.DataFrame([{\n",
    "        'Variable': 'Gender',\n",
    "        'Type': 'Rope',\n",
    "        'Gender': '-',\n",
    "        'Coefficient': round(lm_grade_vs_gender_rope.params[1],3),\n",
    "        'Std_error': round(lm_grade_vs_gender_rope.bse[1],3),\n",
    "        'P_value': round(lm_grade_vs_gender_rope.pvalues[1], 3)\n",
    "}])\n",
    "\n",
    "df_results_temp = df_results_temp[['Variable','Type','Gender','Coefficient','Std_error','P_value']]\n",
    "\n",
    "df_results_univariate = pd.DataFrame.append(df_results_univariate, df_results_temp).reset_index(drop=True)\n",
    "\n",
    "print('\\n')\n",
    "print(df_results_univariate)"
   ]
  },
  {
   "cell_type": "code",
   "execution_count": null,
   "metadata": {},
   "outputs": [],
   "source": [
    "# -----------------------------------\n",
    "# MULTIVARIATE ANALYSES"
   ]
  },
  {
   "cell_type": "code",
   "execution_count": null,
   "metadata": {
    "scrolled": true
   },
   "outputs": [],
   "source": [
    "round(df_all.corr(),2)"
   ]
  },
  {
   "cell_type": "markdown",
   "metadata": {},
   "source": [
    "From the correlation matrix above we see that height and weight are highly correlated as well as age and years_climbing. is_female is also somewhat correlated with weight and height although just below the threshold we will use of 0.5. \n",
    "\n",
    "**Consider height (but not weight) and years_climbing (but not age) when completing a multivariate analysis**"
   ]
  },
  {
   "cell_type": "code",
   "execution_count": null,
   "metadata": {},
   "outputs": [],
   "source": [
    "sm.stats.anova_lm(fit1,fit2, fit3)"
   ]
  },
  {
   "cell_type": "code",
   "execution_count": null,
   "metadata": {},
   "outputs": [],
   "source": [
    "from statsmodels.stats.outliers_influence import variance_inflation_factor\n",
    "\n",
    "variables = lm_grade_vs_height_years_bouldering_female.model.exog\n",
    "vif = [variance_inflation_factor(variables, i) for i in range(variables.shape[1])]\n",
    "vif "
   ]
  },
  {
   "cell_type": "markdown",
   "metadata": {},
   "source": [
    "The VIFs for height and years are both < 5 which indicates there is not a high amount of multicollinearit - so we keep them."
   ]
  },
  {
   "cell_type": "code",
   "execution_count": null,
   "metadata": {},
   "outputs": [],
   "source": []
  },
  {
   "cell_type": "code",
   "execution_count": null,
   "metadata": {},
   "outputs": [],
   "source": [
    "df_all2 = df_all.copy()"
   ]
  },
  {
   "cell_type": "code",
   "execution_count": null,
   "metadata": {},
   "outputs": [],
   "source": [
    "df_all2 = df_all2[(df_all['years_climbing']>=0) &\n",
    "                             (df_all['years_climbing']<=70) &\n",
    "                             (df_all['age']>=10) &\n",
    "                             (df_all['age']<=80)]"
   ]
  },
  {
   "cell_type": "code",
   "execution_count": null,
   "metadata": {},
   "outputs": [],
   "source": [
    "fit_all = smf.ols('id_grade ~ is_female + is_bouldering + height + weight + years_climbing + age', \n",
    "                  data=df_all2).fit()"
   ]
  },
  {
   "cell_type": "code",
   "execution_count": null,
   "metadata": {},
   "outputs": [],
   "source": [
    "print(fit_all.summary())"
   ]
  },
  {
   "cell_type": "code",
   "execution_count": null,
   "metadata": {},
   "outputs": [],
   "source": [
    "variables = fit_all.model.exog\n",
    "vif = [variance_inflation_factor(variables, i) for i in range(variables.shape[1])]\n",
    "vif "
   ]
  },
  {
   "cell_type": "code",
   "execution_count": null,
   "metadata": {},
   "outputs": [],
   "source": []
  },
  {
   "cell_type": "code",
   "execution_count": null,
   "metadata": {},
   "outputs": [],
   "source": [
    "plt.figure(figsize = (12,6))\n",
    "g = sns.heatmap(abs(df_all2.corr()), annot=True, cmap='hot', mask=np.eye(len(df_all.corr())))\n",
    "g.set_facecolor('black')"
   ]
  },
  {
   "cell_type": "code",
   "execution_count": null,
   "metadata": {},
   "outputs": [],
   "source": []
  },
  {
   "cell_type": "code",
   "execution_count": null,
   "metadata": {},
   "outputs": [],
   "source": [
    "# Plot residuals\n",
    "plt.figure(figsize = (12,6))\n",
    "plt.scatter(x=fit_all.predict(), \n",
    "            y=fit_all.resid, alpha=0.1)\n",
    "plt.hlines(y=0, xmin=fit_all.predict().min(), xmax=fit_all.predict().max(), colors='red', linestyles='dashed')\n",
    "plt.title(\"Residuals vs Predictions\")\n",
    "plt.xlabel(\"Predictions\")\n",
    "plt.ylabel(\"Residuals\")\n",
    "plt.show()"
   ]
  },
  {
   "cell_type": "code",
   "execution_count": null,
   "metadata": {},
   "outputs": [],
   "source": [
    "fit_all.resid.sum()"
   ]
  },
  {
   "cell_type": "code",
   "execution_count": null,
   "metadata": {},
   "outputs": [],
   "source": []
  },
  {
   "cell_type": "code",
   "execution_count": null,
   "metadata": {},
   "outputs": [],
   "source": [
    "plt.hist(fit_all.resid, bins=20)"
   ]
  },
  {
   "cell_type": "code",
   "execution_count": null,
   "metadata": {},
   "outputs": [],
   "source": [
    "sm.qqplot(fit_all.resid, line='s')\n",
    "plt.show()"
   ]
  },
  {
   "cell_type": "code",
   "execution_count": null,
   "metadata": {},
   "outputs": [],
   "source": [
    "sm.qqplot(df_all2['id_grade'], line='s', fit=True)\n",
    "plt.show()"
   ]
  },
  {
   "cell_type": "code",
   "execution_count": null,
   "metadata": {},
   "outputs": [],
   "source": [
    "sm.qqplot(df_all2['height'], line='s', fit=True)\n",
    "plt.show()"
   ]
  },
  {
   "cell_type": "code",
   "execution_count": null,
   "metadata": {},
   "outputs": [],
   "source": [
    "sm.qqplot(df_all2['weight'], line='s', fit=True)\n",
    "plt.show()"
   ]
  },
  {
   "cell_type": "code",
   "execution_count": null,
   "metadata": {},
   "outputs": [],
   "source": [
    "sm.qqplot(df_all2['age'], line='s', fit=True)\n",
    "plt.show()"
   ]
  },
  {
   "cell_type": "code",
   "execution_count": null,
   "metadata": {},
   "outputs": [],
   "source": [
    "sm.qqplot(df_all2['years_climbing'], line='s', fit=True)\n",
    "plt.show()"
   ]
  },
  {
   "cell_type": "code",
   "execution_count": null,
   "metadata": {},
   "outputs": [],
   "source": [
    "plt.hist(df_all2['id_grade'], bins=20)"
   ]
  },
  {
   "cell_type": "code",
   "execution_count": null,
   "metadata": {},
   "outputs": [],
   "source": [
    "plt.hist(df_all2['height'], bins=20)"
   ]
  },
  {
   "cell_type": "code",
   "execution_count": null,
   "metadata": {},
   "outputs": [],
   "source": [
    "plt.hist(df_all2['weight'], bins=10)"
   ]
  },
  {
   "cell_type": "code",
   "execution_count": null,
   "metadata": {},
   "outputs": [],
   "source": [
    "plt.hist(df_all2['age'], bins=20)"
   ]
  },
  {
   "cell_type": "code",
   "execution_count": null,
   "metadata": {
    "scrolled": false
   },
   "outputs": [],
   "source": [
    "plt.hist(df_all2['years_climbing'], bins=20)"
   ]
  },
  {
   "cell_type": "code",
   "execution_count": null,
   "metadata": {},
   "outputs": [],
   "source": [
    "# TRY AGAIN REMOVING YEARS AND AGE"
   ]
  },
  {
   "cell_type": "code",
   "execution_count": null,
   "metadata": {},
   "outputs": [],
   "source": [
    "fit_all = smf.ols('id_grade ~ is_female + is_bouldering + height + weight', \n",
    "                  data=df_all2).fit()"
   ]
  },
  {
   "cell_type": "code",
   "execution_count": null,
   "metadata": {},
   "outputs": [],
   "source": [
    "print(fit_all.summary())"
   ]
  },
  {
   "cell_type": "code",
   "execution_count": null,
   "metadata": {},
   "outputs": [],
   "source": [
    "variables = fit_all.model.exog\n",
    "vif = [variance_inflation_factor(variables, i) for i in range(variables.shape[1])]\n",
    "vif "
   ]
  },
  {
   "cell_type": "code",
   "execution_count": null,
   "metadata": {},
   "outputs": [],
   "source": []
  },
  {
   "cell_type": "code",
   "execution_count": null,
   "metadata": {},
   "outputs": [],
   "source": [
    "plt.figure(figsize = (12,6))\n",
    "g = sns.heatmap(abs(df_all2.corr()), annot=True, cmap='hot', mask=np.eye(len(df_all.corr())))\n",
    "g.set_facecolor('black')"
   ]
  },
  {
   "cell_type": "code",
   "execution_count": null,
   "metadata": {},
   "outputs": [],
   "source": []
  },
  {
   "cell_type": "code",
   "execution_count": null,
   "metadata": {},
   "outputs": [],
   "source": [
    "# Plot residuals\n",
    "plt.figure(figsize = (12,6))\n",
    "plt.scatter(x=fit_all.predict(), \n",
    "            y=fit_all.resid, alpha=0.1)\n",
    "plt.hlines(y=0, xmin=fit_all.predict().min(), xmax=fit_all.predict().max(), colors='red', linestyles='dashed')\n",
    "plt.title(\"Residuals vs Predictions\")\n",
    "plt.xlabel(\"Predictions\")\n",
    "plt.ylabel(\"Residuals\")\n",
    "plt.show()"
   ]
  },
  {
   "cell_type": "code",
   "execution_count": null,
   "metadata": {},
   "outputs": [],
   "source": [
    "fit_all.resid.sum()"
   ]
  },
  {
   "cell_type": "code",
   "execution_count": null,
   "metadata": {},
   "outputs": [],
   "source": []
  },
  {
   "cell_type": "code",
   "execution_count": null,
   "metadata": {},
   "outputs": [],
   "source": [
    "plt.hist(fit_all.resid, bins=20)"
   ]
  },
  {
   "cell_type": "code",
   "execution_count": null,
   "metadata": {
    "scrolled": true
   },
   "outputs": [],
   "source": [
    "sm.qqplot(fit_all.resid, line='s')\n",
    "plt.show()"
   ]
  },
  {
   "cell_type": "code",
   "execution_count": null,
   "metadata": {},
   "outputs": [],
   "source": [
    "# =====================\n",
    "# FEMALE BOULDERING\n"
   ]
  },
  {
   "cell_type": "code",
   "execution_count": null,
   "metadata": {},
   "outputs": [],
   "source": [
    "fit_bouldering_f = smf.ols('id_grade ~ + height + weight', \n",
    "                  data=df_bouldering_female).fit()"
   ]
  },
  {
   "cell_type": "code",
   "execution_count": null,
   "metadata": {},
   "outputs": [],
   "source": [
    "print(fit_bouldering_f.summary())"
   ]
  },
  {
   "cell_type": "code",
   "execution_count": null,
   "metadata": {},
   "outputs": [],
   "source": [
    "variables = fit_bouldering_f.model.exog\n",
    "vif = [variance_inflation_factor(variables, i) for i in range(variables.shape[1])]\n",
    "vif "
   ]
  },
  {
   "cell_type": "code",
   "execution_count": null,
   "metadata": {},
   "outputs": [],
   "source": [
    "plt.figure(figsize = (12,6))\n",
    "g = sns.heatmap(abs(df_bouldering_female[['id_grade','height','weight']].corr()), annot=True, cmap='hot', mask=np.eye(len(df_bouldering_female[['id_grade','height','weight']].corr())))\n",
    "g.set_facecolor('black')"
   ]
  },
  {
   "cell_type": "code",
   "execution_count": null,
   "metadata": {},
   "outputs": [],
   "source": [
    "# Plot residuals\n",
    "plt.figure(figsize = (12,6))\n",
    "plt.scatter(x=fit_bouldering_f.predict(), \n",
    "            y=fit_bouldering_f.resid, alpha=0.1)\n",
    "plt.hlines(y=0, xmin=fit_bouldering_f.predict().min(), xmax=fit_bouldering_f.predict().max(), colors='red', linestyles='dashed')\n",
    "plt.title(\"Residuals vs Predictions\")\n",
    "plt.xlabel(\"Predictions\")\n",
    "plt.ylabel(\"Residuals\")\n",
    "plt.show()"
   ]
  },
  {
   "cell_type": "code",
   "execution_count": null,
   "metadata": {},
   "outputs": [],
   "source": [
    "fit_bouldering_f.resid.sum()"
   ]
  },
  {
   "cell_type": "code",
   "execution_count": null,
   "metadata": {},
   "outputs": [],
   "source": [
    "plt.hist(fit_bouldering_f.resid, bins=20)"
   ]
  },
  {
   "cell_type": "code",
   "execution_count": null,
   "metadata": {
    "scrolled": true
   },
   "outputs": [],
   "source": [
    "sm.qqplot(fit_bouldering_f.resid, line='s')\n",
    "plt.show()"
   ]
  },
  {
   "cell_type": "code",
   "execution_count": null,
   "metadata": {},
   "outputs": [],
   "source": []
  },
  {
   "cell_type": "code",
   "execution_count": null,
   "metadata": {},
   "outputs": [],
   "source": []
  },
  {
   "cell_type": "code",
   "execution_count": null,
   "metadata": {},
   "outputs": [],
   "source": []
  },
  {
   "cell_type": "code",
   "execution_count": null,
   "metadata": {},
   "outputs": [],
   "source": []
  },
  {
   "cell_type": "code",
   "execution_count": null,
   "metadata": {},
   "outputs": [],
   "source": []
  },
  {
   "cell_type": "code",
   "execution_count": null,
   "metadata": {},
   "outputs": [],
   "source": []
  },
  {
   "cell_type": "code",
   "execution_count": null,
   "metadata": {},
   "outputs": [],
   "source": []
  },
  {
   "cell_type": "code",
   "execution_count": null,
   "metadata": {},
   "outputs": [],
   "source": []
  },
  {
   "cell_type": "code",
   "execution_count": null,
   "metadata": {},
   "outputs": [],
   "source": []
  },
  {
   "cell_type": "markdown",
   "metadata": {},
   "source": [
    "# Sandbox"
   ]
  },
  {
   "cell_type": "code",
   "execution_count": null,
   "metadata": {},
   "outputs": [],
   "source": []
  },
  {
   "cell_type": "code",
   "execution_count": null,
   "metadata": {},
   "outputs": [],
   "source": []
  },
  {
   "cell_type": "code",
   "execution_count": null,
   "metadata": {},
   "outputs": [],
   "source": []
  },
  {
   "cell_type": "code",
   "execution_count": null,
   "metadata": {},
   "outputs": [],
   "source": []
  },
  {
   "cell_type": "code",
   "execution_count": null,
   "metadata": {},
   "outputs": [],
   "source": []
  },
  {
   "cell_type": "code",
   "execution_count": null,
   "metadata": {},
   "outputs": [],
   "source": []
  },
  {
   "cell_type": "code",
   "execution_count": null,
   "metadata": {},
   "outputs": [],
   "source": []
  },
  {
   "cell_type": "code",
   "execution_count": null,
   "metadata": {},
   "outputs": [],
   "source": [
    "# ===================\n",
    "# CHECK ASSUMPTIONS\n",
    "# Assumptions for linear regression include:\n",
    "#   * independent and identically distributed (iid) errors; ie errors are iid N(0, sigma^2)\n"
   ]
  }
 ],
 "metadata": {
  "kernelspec": {
   "display_name": "Python 3",
   "language": "python",
   "name": "python3"
  },
  "language_info": {
   "codemirror_mode": {
    "name": "ipython",
    "version": 3
   },
   "file_extension": ".py",
   "mimetype": "text/x-python",
   "name": "python",
   "nbconvert_exporter": "python",
   "pygments_lexer": "ipython3",
   "version": "3.6.5"
  }
 },
 "nbformat": 4,
 "nbformat_minor": 2
}
